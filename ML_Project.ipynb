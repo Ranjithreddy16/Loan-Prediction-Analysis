{
 "cells": [
  {
   "cell_type": "markdown",
   "id": "94872900",
   "metadata": {},
   "source": [
    "## Loan Prediction DataSet"
   ]
  },
  {
   "cell_type": "code",
   "execution_count": 101,
   "id": "c06eecb0",
   "metadata": {},
   "outputs": [],
   "source": [
    "import numpy as np\n",
    "import pandas as pd\n",
    "import matplotlib.pyplot as plt\n",
    "import seaborn as sns\n",
    "from sklearn.model_selection import train_test_split\n",
    "from sklearn.preprocessing import StandardScaler\n",
    "from imblearn.under_sampling import RandomUnderSampler\n",
    "from imblearn.over_sampling import SMOTE"
   ]
  },
  {
   "cell_type": "code",
   "execution_count": 102,
   "id": "99e15456",
   "metadata": {},
   "outputs": [
    {
     "data": {
      "text/html": [
       "<div>\n",
       "<style scoped>\n",
       "    .dataframe tbody tr th:only-of-type {\n",
       "        vertical-align: middle;\n",
       "    }\n",
       "\n",
       "    .dataframe tbody tr th {\n",
       "        vertical-align: top;\n",
       "    }\n",
       "\n",
       "    .dataframe thead th {\n",
       "        text-align: right;\n",
       "    }\n",
       "</style>\n",
       "<table border=\"1\" class=\"dataframe\">\n",
       "  <thead>\n",
       "    <tr style=\"text-align: right;\">\n",
       "      <th></th>\n",
       "      <th>ID</th>\n",
       "      <th>year</th>\n",
       "      <th>loan_limit</th>\n",
       "      <th>Gender</th>\n",
       "      <th>approv_in_adv</th>\n",
       "      <th>loan_type</th>\n",
       "      <th>loan_purpose</th>\n",
       "      <th>Credit_Worthiness</th>\n",
       "      <th>...</th>\n",
       "      <th>co-applicant_credit_type</th>\n",
       "      <th>age</th>\n",
       "      <th>submission_of_application</th>\n",
       "      <th>LTV</th>\n",
       "      <th>Region</th>\n",
       "      <th>Security_Type</th>\n",
       "      <th>Status</th>\n",
       "      <th>dtir1</th>\n",
       "    </tr>\n",
       "  </thead>\n",
       "  <tbody>\n",
       "    <tr>\n",
       "      <th>0</th>\n",
       "      <td>24890</td>\n",
       "      <td>2019</td>\n",
       "      <td>cf</td>\n",
       "      <td>Sex Not Available</td>\n",
       "      <td>nopre</td>\n",
       "      <td>type1</td>\n",
       "      <td>p1</td>\n",
       "      <td>l1</td>\n",
       "      <td>...</td>\n",
       "      <td>CIB</td>\n",
       "      <td>25-34</td>\n",
       "      <td>to_inst</td>\n",
       "      <td>98.728814</td>\n",
       "      <td>south</td>\n",
       "      <td>direct</td>\n",
       "      <td>1</td>\n",
       "      <td>45.0</td>\n",
       "    </tr>\n",
       "    <tr>\n",
       "      <th>1</th>\n",
       "      <td>24891</td>\n",
       "      <td>2019</td>\n",
       "      <td>cf</td>\n",
       "      <td>Male</td>\n",
       "      <td>nopre</td>\n",
       "      <td>type2</td>\n",
       "      <td>p1</td>\n",
       "      <td>l1</td>\n",
       "      <td>...</td>\n",
       "      <td>EXP</td>\n",
       "      <td>55-64</td>\n",
       "      <td>to_inst</td>\n",
       "      <td>NaN</td>\n",
       "      <td>North</td>\n",
       "      <td>direct</td>\n",
       "      <td>1</td>\n",
       "      <td>NaN</td>\n",
       "    </tr>\n",
       "    <tr>\n",
       "      <th>2</th>\n",
       "      <td>24892</td>\n",
       "      <td>2019</td>\n",
       "      <td>cf</td>\n",
       "      <td>Male</td>\n",
       "      <td>pre</td>\n",
       "      <td>type1</td>\n",
       "      <td>p1</td>\n",
       "      <td>l1</td>\n",
       "      <td>...</td>\n",
       "      <td>CIB</td>\n",
       "      <td>35-44</td>\n",
       "      <td>to_inst</td>\n",
       "      <td>80.019685</td>\n",
       "      <td>south</td>\n",
       "      <td>direct</td>\n",
       "      <td>0</td>\n",
       "      <td>46.0</td>\n",
       "    </tr>\n",
       "    <tr>\n",
       "      <th>3</th>\n",
       "      <td>24893</td>\n",
       "      <td>2019</td>\n",
       "      <td>cf</td>\n",
       "      <td>Male</td>\n",
       "      <td>nopre</td>\n",
       "      <td>type1</td>\n",
       "      <td>p4</td>\n",
       "      <td>l1</td>\n",
       "      <td>...</td>\n",
       "      <td>CIB</td>\n",
       "      <td>45-54</td>\n",
       "      <td>not_inst</td>\n",
       "      <td>69.376900</td>\n",
       "      <td>North</td>\n",
       "      <td>direct</td>\n",
       "      <td>0</td>\n",
       "      <td>42.0</td>\n",
       "    </tr>\n",
       "    <tr>\n",
       "      <th>4</th>\n",
       "      <td>24894</td>\n",
       "      <td>2019</td>\n",
       "      <td>cf</td>\n",
       "      <td>Joint</td>\n",
       "      <td>pre</td>\n",
       "      <td>type1</td>\n",
       "      <td>p1</td>\n",
       "      <td>l1</td>\n",
       "      <td>...</td>\n",
       "      <td>EXP</td>\n",
       "      <td>25-34</td>\n",
       "      <td>not_inst</td>\n",
       "      <td>91.886544</td>\n",
       "      <td>North</td>\n",
       "      <td>direct</td>\n",
       "      <td>0</td>\n",
       "      <td>39.0</td>\n",
       "    </tr>\n",
       "    <tr>\n",
       "      <th>...</th>\n",
       "      <td>...</td>\n",
       "      <td>...</td>\n",
       "      <td>...</td>\n",
       "      <td>...</td>\n",
       "      <td>...</td>\n",
       "      <td>...</td>\n",
       "      <td>...</td>\n",
       "      <td>...</td>\n",
       "      <td>...</td>\n",
       "      <td>...</td>\n",
       "      <td>...</td>\n",
       "      <td>...</td>\n",
       "      <td>...</td>\n",
       "      <td>...</td>\n",
       "      <td>...</td>\n",
       "      <td>...</td>\n",
       "      <td>...</td>\n",
       "    </tr>\n",
       "    <tr>\n",
       "      <th>148665</th>\n",
       "      <td>173555</td>\n",
       "      <td>2019</td>\n",
       "      <td>cf</td>\n",
       "      <td>Sex Not Available</td>\n",
       "      <td>nopre</td>\n",
       "      <td>type1</td>\n",
       "      <td>p3</td>\n",
       "      <td>l1</td>\n",
       "      <td>...</td>\n",
       "      <td>EXP</td>\n",
       "      <td>55-64</td>\n",
       "      <td>to_inst</td>\n",
       "      <td>71.792763</td>\n",
       "      <td>south</td>\n",
       "      <td>direct</td>\n",
       "      <td>0</td>\n",
       "      <td>48.0</td>\n",
       "    </tr>\n",
       "    <tr>\n",
       "      <th>148666</th>\n",
       "      <td>173556</td>\n",
       "      <td>2019</td>\n",
       "      <td>cf</td>\n",
       "      <td>Male</td>\n",
       "      <td>nopre</td>\n",
       "      <td>type1</td>\n",
       "      <td>p1</td>\n",
       "      <td>l1</td>\n",
       "      <td>...</td>\n",
       "      <td>CIB</td>\n",
       "      <td>25-34</td>\n",
       "      <td>not_inst</td>\n",
       "      <td>74.428934</td>\n",
       "      <td>south</td>\n",
       "      <td>direct</td>\n",
       "      <td>0</td>\n",
       "      <td>15.0</td>\n",
       "    </tr>\n",
       "    <tr>\n",
       "      <th>148667</th>\n",
       "      <td>173557</td>\n",
       "      <td>2019</td>\n",
       "      <td>cf</td>\n",
       "      <td>Male</td>\n",
       "      <td>nopre</td>\n",
       "      <td>type1</td>\n",
       "      <td>p4</td>\n",
       "      <td>l1</td>\n",
       "      <td>...</td>\n",
       "      <td>EXP</td>\n",
       "      <td>45-54</td>\n",
       "      <td>not_inst</td>\n",
       "      <td>61.332418</td>\n",
       "      <td>North</td>\n",
       "      <td>direct</td>\n",
       "      <td>0</td>\n",
       "      <td>49.0</td>\n",
       "    </tr>\n",
       "    <tr>\n",
       "      <th>148668</th>\n",
       "      <td>173558</td>\n",
       "      <td>2019</td>\n",
       "      <td>cf</td>\n",
       "      <td>Female</td>\n",
       "      <td>nopre</td>\n",
       "      <td>type1</td>\n",
       "      <td>p4</td>\n",
       "      <td>l1</td>\n",
       "      <td>...</td>\n",
       "      <td>EXP</td>\n",
       "      <td>55-64</td>\n",
       "      <td>to_inst</td>\n",
       "      <td>70.683453</td>\n",
       "      <td>North</td>\n",
       "      <td>direct</td>\n",
       "      <td>0</td>\n",
       "      <td>29.0</td>\n",
       "    </tr>\n",
       "    <tr>\n",
       "      <th>148669</th>\n",
       "      <td>173559</td>\n",
       "      <td>2019</td>\n",
       "      <td>cf</td>\n",
       "      <td>Female</td>\n",
       "      <td>nopre</td>\n",
       "      <td>type1</td>\n",
       "      <td>p3</td>\n",
       "      <td>l1</td>\n",
       "      <td>...</td>\n",
       "      <td>CIB</td>\n",
       "      <td>45-54</td>\n",
       "      <td>not_inst</td>\n",
       "      <td>72.849462</td>\n",
       "      <td>North</td>\n",
       "      <td>direct</td>\n",
       "      <td>0</td>\n",
       "      <td>44.0</td>\n",
       "    </tr>\n",
       "  </tbody>\n",
       "</table>\n",
       "<p>148670 rows × 34 columns</p>\n",
       "</div>"
      ],
      "text/plain": [
       "            ID  year loan_limit             Gender approv_in_adv loan_type  \\\n",
       "0        24890  2019         cf  Sex Not Available         nopre     type1   \n",
       "1        24891  2019         cf               Male         nopre     type2   \n",
       "2        24892  2019         cf               Male           pre     type1   \n",
       "3        24893  2019         cf               Male         nopre     type1   \n",
       "4        24894  2019         cf              Joint           pre     type1   \n",
       "...        ...   ...        ...                ...           ...       ...   \n",
       "148665  173555  2019         cf  Sex Not Available         nopre     type1   \n",
       "148666  173556  2019         cf               Male         nopre     type1   \n",
       "148667  173557  2019         cf               Male         nopre     type1   \n",
       "148668  173558  2019         cf             Female         nopre     type1   \n",
       "148669  173559  2019         cf             Female         nopre     type1   \n",
       "\n",
       "       loan_purpose Credit_Worthiness  ... co-applicant_credit_type    age  \\\n",
       "0                p1                l1  ...                      CIB  25-34   \n",
       "1                p1                l1  ...                      EXP  55-64   \n",
       "2                p1                l1  ...                      CIB  35-44   \n",
       "3                p4                l1  ...                      CIB  45-54   \n",
       "4                p1                l1  ...                      EXP  25-34   \n",
       "...             ...               ...  ...                      ...    ...   \n",
       "148665           p3                l1  ...                      EXP  55-64   \n",
       "148666           p1                l1  ...                      CIB  25-34   \n",
       "148667           p4                l1  ...                      EXP  45-54   \n",
       "148668           p4                l1  ...                      EXP  55-64   \n",
       "148669           p3                l1  ...                      CIB  45-54   \n",
       "\n",
       "        submission_of_application        LTV  Region  Security_Type  Status  \\\n",
       "0                         to_inst  98.728814   south         direct       1   \n",
       "1                         to_inst        NaN   North         direct       1   \n",
       "2                         to_inst  80.019685   south         direct       0   \n",
       "3                        not_inst  69.376900   North         direct       0   \n",
       "4                        not_inst  91.886544   North         direct       0   \n",
       "...                           ...        ...     ...            ...     ...   \n",
       "148665                    to_inst  71.792763   south         direct       0   \n",
       "148666                   not_inst  74.428934   south         direct       0   \n",
       "148667                   not_inst  61.332418   North         direct       0   \n",
       "148668                    to_inst  70.683453   North         direct       0   \n",
       "148669                   not_inst  72.849462   North         direct       0   \n",
       "\n",
       "       dtir1  \n",
       "0       45.0  \n",
       "1        NaN  \n",
       "2       46.0  \n",
       "3       42.0  \n",
       "4       39.0  \n",
       "...      ...  \n",
       "148665  48.0  \n",
       "148666  15.0  \n",
       "148667  49.0  \n",
       "148668  29.0  \n",
       "148669  44.0  \n",
       "\n",
       "[148670 rows x 34 columns]"
      ]
     },
     "execution_count": 102,
     "metadata": {},
     "output_type": "execute_result"
    }
   ],
   "source": [
    "df=pd.read_csv('C:\\\\Users\\\\kalya\\\\Downloads\\\\ML project\\\\Loan.csv')\n",
    "df"
   ]
  },
  {
   "cell_type": "code",
   "execution_count": 103,
   "id": "bc92b699",
   "metadata": {},
   "outputs": [
    {
     "data": {
      "text/plain": [
       "(148670, 34)"
      ]
     },
     "execution_count": 103,
     "metadata": {},
     "output_type": "execute_result"
    }
   ],
   "source": [
    "df.shape"
   ]
  },
  {
   "cell_type": "markdown",
   "id": "0bed0416",
   "metadata": {},
   "source": [
    "## Data Description"
   ]
  },
  {
   "cell_type": "code",
   "execution_count": 104,
   "id": "31ef6130",
   "metadata": {},
   "outputs": [
    {
     "name": "stdout",
     "output_type": "stream",
     "text": [
      "<class 'pandas.core.frame.DataFrame'>\n",
      "RangeIndex: 148670 entries, 0 to 148669\n",
      "Data columns (total 34 columns):\n",
      " #   Column                     Non-Null Count   Dtype  \n",
      "---  ------                     --------------   -----  \n",
      " 0   ID                         148670 non-null  int64  \n",
      " 1   year                       148670 non-null  int64  \n",
      " 2   loan_limit                 145326 non-null  object \n",
      " 3   Gender                     148670 non-null  object \n",
      " 4   approv_in_adv              147762 non-null  object \n",
      " 5   loan_type                  148670 non-null  object \n",
      " 6   loan_purpose               148536 non-null  object \n",
      " 7   Credit_Worthiness          148670 non-null  object \n",
      " 8   open_credit                148670 non-null  object \n",
      " 9   business_or_commercial     148670 non-null  object \n",
      " 10  loan_amount                148670 non-null  int64  \n",
      " 11  rate_of_interest           112231 non-null  float64\n",
      " 12  Interest_rate_spread       112031 non-null  float64\n",
      " 13  Upfront_charges            109028 non-null  float64\n",
      " 14  term                       148629 non-null  float64\n",
      " 15  Neg_ammortization          148549 non-null  object \n",
      " 16  interest_only              148670 non-null  object \n",
      " 17  lump_sum_payment           148670 non-null  object \n",
      " 18  property_value             133572 non-null  float64\n",
      " 19  construction_type          148670 non-null  object \n",
      " 20  occupancy_type             148670 non-null  object \n",
      " 21  Secured_by                 148670 non-null  object \n",
      " 22  total_units                148670 non-null  object \n",
      " 23  income                     139520 non-null  float64\n",
      " 24  credit_type                148670 non-null  object \n",
      " 25  Credit_Score               148670 non-null  int64  \n",
      " 26  co-applicant_credit_type   148670 non-null  object \n",
      " 27  age                        148470 non-null  object \n",
      " 28  submission_of_application  148470 non-null  object \n",
      " 29  LTV                        133572 non-null  float64\n",
      " 30  Region                     148670 non-null  object \n",
      " 31  Security_Type              148670 non-null  object \n",
      " 32  Status                     148670 non-null  int64  \n",
      " 33  dtir1                      124549 non-null  float64\n",
      "dtypes: float64(8), int64(5), object(21)\n",
      "memory usage: 38.6+ MB\n"
     ]
    }
   ],
   "source": [
    "df.info()"
   ]
  },
  {
   "cell_type": "code",
   "execution_count": 105,
   "id": "765e03f0",
   "metadata": {},
   "outputs": [
    {
     "data": {
      "text/html": [
       "<div>\n",
       "<style scoped>\n",
       "    .dataframe tbody tr th:only-of-type {\n",
       "        vertical-align: middle;\n",
       "    }\n",
       "\n",
       "    .dataframe tbody tr th {\n",
       "        vertical-align: top;\n",
       "    }\n",
       "\n",
       "    .dataframe thead th {\n",
       "        text-align: right;\n",
       "    }\n",
       "</style>\n",
       "<table border=\"1\" class=\"dataframe\">\n",
       "  <thead>\n",
       "    <tr style=\"text-align: right;\">\n",
       "      <th></th>\n",
       "      <th>ID</th>\n",
       "      <th>year</th>\n",
       "      <th>loan_limit</th>\n",
       "      <th>Gender</th>\n",
       "      <th>approv_in_adv</th>\n",
       "      <th>loan_type</th>\n",
       "      <th>loan_purpose</th>\n",
       "      <th>Credit_Worthiness</th>\n",
       "      <th>...</th>\n",
       "      <th>co-applicant_credit_type</th>\n",
       "      <th>age</th>\n",
       "      <th>submission_of_application</th>\n",
       "      <th>LTV</th>\n",
       "      <th>Region</th>\n",
       "      <th>Security_Type</th>\n",
       "      <th>Status</th>\n",
       "      <th>dtir1</th>\n",
       "    </tr>\n",
       "  </thead>\n",
       "  <tbody>\n",
       "    <tr>\n",
       "      <th>0</th>\n",
       "      <td>24890</td>\n",
       "      <td>2019</td>\n",
       "      <td>cf</td>\n",
       "      <td>Sex Not Available</td>\n",
       "      <td>nopre</td>\n",
       "      <td>type1</td>\n",
       "      <td>p1</td>\n",
       "      <td>l1</td>\n",
       "      <td>...</td>\n",
       "      <td>CIB</td>\n",
       "      <td>25-34</td>\n",
       "      <td>to_inst</td>\n",
       "      <td>98.728814</td>\n",
       "      <td>south</td>\n",
       "      <td>direct</td>\n",
       "      <td>1</td>\n",
       "      <td>45.0</td>\n",
       "    </tr>\n",
       "    <tr>\n",
       "      <th>1</th>\n",
       "      <td>24891</td>\n",
       "      <td>2019</td>\n",
       "      <td>cf</td>\n",
       "      <td>Male</td>\n",
       "      <td>nopre</td>\n",
       "      <td>type2</td>\n",
       "      <td>p1</td>\n",
       "      <td>l1</td>\n",
       "      <td>...</td>\n",
       "      <td>EXP</td>\n",
       "      <td>55-64</td>\n",
       "      <td>to_inst</td>\n",
       "      <td>NaN</td>\n",
       "      <td>North</td>\n",
       "      <td>direct</td>\n",
       "      <td>1</td>\n",
       "      <td>NaN</td>\n",
       "    </tr>\n",
       "    <tr>\n",
       "      <th>2</th>\n",
       "      <td>24892</td>\n",
       "      <td>2019</td>\n",
       "      <td>cf</td>\n",
       "      <td>Male</td>\n",
       "      <td>pre</td>\n",
       "      <td>type1</td>\n",
       "      <td>p1</td>\n",
       "      <td>l1</td>\n",
       "      <td>...</td>\n",
       "      <td>CIB</td>\n",
       "      <td>35-44</td>\n",
       "      <td>to_inst</td>\n",
       "      <td>80.019685</td>\n",
       "      <td>south</td>\n",
       "      <td>direct</td>\n",
       "      <td>0</td>\n",
       "      <td>46.0</td>\n",
       "    </tr>\n",
       "    <tr>\n",
       "      <th>3</th>\n",
       "      <td>24893</td>\n",
       "      <td>2019</td>\n",
       "      <td>cf</td>\n",
       "      <td>Male</td>\n",
       "      <td>nopre</td>\n",
       "      <td>type1</td>\n",
       "      <td>p4</td>\n",
       "      <td>l1</td>\n",
       "      <td>...</td>\n",
       "      <td>CIB</td>\n",
       "      <td>45-54</td>\n",
       "      <td>not_inst</td>\n",
       "      <td>69.376900</td>\n",
       "      <td>North</td>\n",
       "      <td>direct</td>\n",
       "      <td>0</td>\n",
       "      <td>42.0</td>\n",
       "    </tr>\n",
       "    <tr>\n",
       "      <th>4</th>\n",
       "      <td>24894</td>\n",
       "      <td>2019</td>\n",
       "      <td>cf</td>\n",
       "      <td>Joint</td>\n",
       "      <td>pre</td>\n",
       "      <td>type1</td>\n",
       "      <td>p1</td>\n",
       "      <td>l1</td>\n",
       "      <td>...</td>\n",
       "      <td>EXP</td>\n",
       "      <td>25-34</td>\n",
       "      <td>not_inst</td>\n",
       "      <td>91.886544</td>\n",
       "      <td>North</td>\n",
       "      <td>direct</td>\n",
       "      <td>0</td>\n",
       "      <td>39.0</td>\n",
       "    </tr>\n",
       "  </tbody>\n",
       "</table>\n",
       "<p>5 rows × 34 columns</p>\n",
       "</div>"
      ],
      "text/plain": [
       "      ID  year loan_limit             Gender approv_in_adv loan_type  \\\n",
       "0  24890  2019         cf  Sex Not Available         nopre     type1   \n",
       "1  24891  2019         cf               Male         nopre     type2   \n",
       "2  24892  2019         cf               Male           pre     type1   \n",
       "3  24893  2019         cf               Male         nopre     type1   \n",
       "4  24894  2019         cf              Joint           pre     type1   \n",
       "\n",
       "  loan_purpose Credit_Worthiness  ... co-applicant_credit_type    age  \\\n",
       "0           p1                l1  ...                      CIB  25-34   \n",
       "1           p1                l1  ...                      EXP  55-64   \n",
       "2           p1                l1  ...                      CIB  35-44   \n",
       "3           p4                l1  ...                      CIB  45-54   \n",
       "4           p1                l1  ...                      EXP  25-34   \n",
       "\n",
       "   submission_of_application        LTV  Region  Security_Type  Status dtir1  \n",
       "0                    to_inst  98.728814   south         direct       1  45.0  \n",
       "1                    to_inst        NaN   North         direct       1   NaN  \n",
       "2                    to_inst  80.019685   south         direct       0  46.0  \n",
       "3                   not_inst  69.376900   North         direct       0  42.0  \n",
       "4                   not_inst  91.886544   North         direct       0  39.0  \n",
       "\n",
       "[5 rows x 34 columns]"
      ]
     },
     "execution_count": 105,
     "metadata": {},
     "output_type": "execute_result"
    }
   ],
   "source": [
    "df.head()"
   ]
  },
  {
   "cell_type": "code",
   "execution_count": 106,
   "id": "1f461848",
   "metadata": {},
   "outputs": [
    {
     "data": {
      "text/html": [
       "<div>\n",
       "<style scoped>\n",
       "    .dataframe tbody tr th:only-of-type {\n",
       "        vertical-align: middle;\n",
       "    }\n",
       "\n",
       "    .dataframe tbody tr th {\n",
       "        vertical-align: top;\n",
       "    }\n",
       "\n",
       "    .dataframe thead th {\n",
       "        text-align: right;\n",
       "    }\n",
       "</style>\n",
       "<table border=\"1\" class=\"dataframe\">\n",
       "  <thead>\n",
       "    <tr style=\"text-align: right;\">\n",
       "      <th></th>\n",
       "      <th>ID</th>\n",
       "      <th>year</th>\n",
       "      <th>loan_limit</th>\n",
       "      <th>Gender</th>\n",
       "      <th>approv_in_adv</th>\n",
       "      <th>loan_type</th>\n",
       "      <th>loan_purpose</th>\n",
       "      <th>Credit_Worthiness</th>\n",
       "      <th>open_credit</th>\n",
       "      <th>business_or_commercial</th>\n",
       "      <th>loan_amount</th>\n",
       "      <th>rate_of_interest</th>\n",
       "      <th>Interest_rate_spread</th>\n",
       "      <th>Upfront_charges</th>\n",
       "      <th>term</th>\n",
       "      <th>Neg_ammortization</th>\n",
       "      <th>interest_only</th>\n",
       "      <th>lump_sum_payment</th>\n",
       "      <th>property_value</th>\n",
       "      <th>construction_type</th>\n",
       "      <th>occupancy_type</th>\n",
       "      <th>Secured_by</th>\n",
       "      <th>total_units</th>\n",
       "      <th>income</th>\n",
       "      <th>credit_type</th>\n",
       "      <th>Credit_Score</th>\n",
       "      <th>co-applicant_credit_type</th>\n",
       "      <th>age</th>\n",
       "      <th>submission_of_application</th>\n",
       "      <th>LTV</th>\n",
       "      <th>Region</th>\n",
       "      <th>Security_Type</th>\n",
       "      <th>Status</th>\n",
       "      <th>dtir1</th>\n",
       "    </tr>\n",
       "  </thead>\n",
       "  <tbody>\n",
       "    <tr>\n",
       "      <th>0</th>\n",
       "      <td>24890</td>\n",
       "      <td>2019</td>\n",
       "      <td>cf</td>\n",
       "      <td>Sex Not Available</td>\n",
       "      <td>nopre</td>\n",
       "      <td>type1</td>\n",
       "      <td>p1</td>\n",
       "      <td>l1</td>\n",
       "      <td>nopc</td>\n",
       "      <td>nob/c</td>\n",
       "      <td>116500</td>\n",
       "      <td>NaN</td>\n",
       "      <td>NaN</td>\n",
       "      <td>NaN</td>\n",
       "      <td>360.0</td>\n",
       "      <td>not_neg</td>\n",
       "      <td>not_int</td>\n",
       "      <td>not_lpsm</td>\n",
       "      <td>118000.0</td>\n",
       "      <td>sb</td>\n",
       "      <td>pr</td>\n",
       "      <td>home</td>\n",
       "      <td>1U</td>\n",
       "      <td>1740.0</td>\n",
       "      <td>EXP</td>\n",
       "      <td>758</td>\n",
       "      <td>CIB</td>\n",
       "      <td>25-34</td>\n",
       "      <td>to_inst</td>\n",
       "      <td>98.728814</td>\n",
       "      <td>south</td>\n",
       "      <td>direct</td>\n",
       "      <td>1</td>\n",
       "      <td>45.0</td>\n",
       "    </tr>\n",
       "    <tr>\n",
       "      <th>1</th>\n",
       "      <td>24891</td>\n",
       "      <td>2019</td>\n",
       "      <td>cf</td>\n",
       "      <td>Male</td>\n",
       "      <td>nopre</td>\n",
       "      <td>type2</td>\n",
       "      <td>p1</td>\n",
       "      <td>l1</td>\n",
       "      <td>nopc</td>\n",
       "      <td>b/c</td>\n",
       "      <td>206500</td>\n",
       "      <td>NaN</td>\n",
       "      <td>NaN</td>\n",
       "      <td>NaN</td>\n",
       "      <td>360.0</td>\n",
       "      <td>not_neg</td>\n",
       "      <td>not_int</td>\n",
       "      <td>lpsm</td>\n",
       "      <td>NaN</td>\n",
       "      <td>sb</td>\n",
       "      <td>pr</td>\n",
       "      <td>home</td>\n",
       "      <td>1U</td>\n",
       "      <td>4980.0</td>\n",
       "      <td>EQUI</td>\n",
       "      <td>552</td>\n",
       "      <td>EXP</td>\n",
       "      <td>55-64</td>\n",
       "      <td>to_inst</td>\n",
       "      <td>NaN</td>\n",
       "      <td>North</td>\n",
       "      <td>direct</td>\n",
       "      <td>1</td>\n",
       "      <td>NaN</td>\n",
       "    </tr>\n",
       "    <tr>\n",
       "      <th>2</th>\n",
       "      <td>24892</td>\n",
       "      <td>2019</td>\n",
       "      <td>cf</td>\n",
       "      <td>Male</td>\n",
       "      <td>pre</td>\n",
       "      <td>type1</td>\n",
       "      <td>p1</td>\n",
       "      <td>l1</td>\n",
       "      <td>nopc</td>\n",
       "      <td>nob/c</td>\n",
       "      <td>406500</td>\n",
       "      <td>4.56</td>\n",
       "      <td>0.2000</td>\n",
       "      <td>595.0</td>\n",
       "      <td>360.0</td>\n",
       "      <td>neg_amm</td>\n",
       "      <td>not_int</td>\n",
       "      <td>not_lpsm</td>\n",
       "      <td>508000.0</td>\n",
       "      <td>sb</td>\n",
       "      <td>pr</td>\n",
       "      <td>home</td>\n",
       "      <td>1U</td>\n",
       "      <td>9480.0</td>\n",
       "      <td>EXP</td>\n",
       "      <td>834</td>\n",
       "      <td>CIB</td>\n",
       "      <td>35-44</td>\n",
       "      <td>to_inst</td>\n",
       "      <td>80.019685</td>\n",
       "      <td>south</td>\n",
       "      <td>direct</td>\n",
       "      <td>0</td>\n",
       "      <td>46.0</td>\n",
       "    </tr>\n",
       "    <tr>\n",
       "      <th>3</th>\n",
       "      <td>24893</td>\n",
       "      <td>2019</td>\n",
       "      <td>cf</td>\n",
       "      <td>Male</td>\n",
       "      <td>nopre</td>\n",
       "      <td>type1</td>\n",
       "      <td>p4</td>\n",
       "      <td>l1</td>\n",
       "      <td>nopc</td>\n",
       "      <td>nob/c</td>\n",
       "      <td>456500</td>\n",
       "      <td>4.25</td>\n",
       "      <td>0.6810</td>\n",
       "      <td>NaN</td>\n",
       "      <td>360.0</td>\n",
       "      <td>not_neg</td>\n",
       "      <td>not_int</td>\n",
       "      <td>not_lpsm</td>\n",
       "      <td>658000.0</td>\n",
       "      <td>sb</td>\n",
       "      <td>pr</td>\n",
       "      <td>home</td>\n",
       "      <td>1U</td>\n",
       "      <td>11880.0</td>\n",
       "      <td>EXP</td>\n",
       "      <td>587</td>\n",
       "      <td>CIB</td>\n",
       "      <td>45-54</td>\n",
       "      <td>not_inst</td>\n",
       "      <td>69.376900</td>\n",
       "      <td>North</td>\n",
       "      <td>direct</td>\n",
       "      <td>0</td>\n",
       "      <td>42.0</td>\n",
       "    </tr>\n",
       "    <tr>\n",
       "      <th>4</th>\n",
       "      <td>24894</td>\n",
       "      <td>2019</td>\n",
       "      <td>cf</td>\n",
       "      <td>Joint</td>\n",
       "      <td>pre</td>\n",
       "      <td>type1</td>\n",
       "      <td>p1</td>\n",
       "      <td>l1</td>\n",
       "      <td>nopc</td>\n",
       "      <td>nob/c</td>\n",
       "      <td>696500</td>\n",
       "      <td>4.00</td>\n",
       "      <td>0.3042</td>\n",
       "      <td>0.0</td>\n",
       "      <td>360.0</td>\n",
       "      <td>not_neg</td>\n",
       "      <td>not_int</td>\n",
       "      <td>not_lpsm</td>\n",
       "      <td>758000.0</td>\n",
       "      <td>sb</td>\n",
       "      <td>pr</td>\n",
       "      <td>home</td>\n",
       "      <td>1U</td>\n",
       "      <td>10440.0</td>\n",
       "      <td>CRIF</td>\n",
       "      <td>602</td>\n",
       "      <td>EXP</td>\n",
       "      <td>25-34</td>\n",
       "      <td>not_inst</td>\n",
       "      <td>91.886544</td>\n",
       "      <td>North</td>\n",
       "      <td>direct</td>\n",
       "      <td>0</td>\n",
       "      <td>39.0</td>\n",
       "    </tr>\n",
       "  </tbody>\n",
       "</table>\n",
       "</div>"
      ],
      "text/plain": [
       "      ID  year loan_limit             Gender approv_in_adv loan_type  \\\n",
       "0  24890  2019         cf  Sex Not Available         nopre     type1   \n",
       "1  24891  2019         cf               Male         nopre     type2   \n",
       "2  24892  2019         cf               Male           pre     type1   \n",
       "3  24893  2019         cf               Male         nopre     type1   \n",
       "4  24894  2019         cf              Joint           pre     type1   \n",
       "\n",
       "  loan_purpose Credit_Worthiness open_credit business_or_commercial  \\\n",
       "0           p1                l1        nopc                  nob/c   \n",
       "1           p1                l1        nopc                    b/c   \n",
       "2           p1                l1        nopc                  nob/c   \n",
       "3           p4                l1        nopc                  nob/c   \n",
       "4           p1                l1        nopc                  nob/c   \n",
       "\n",
       "   loan_amount  rate_of_interest  Interest_rate_spread  Upfront_charges  \\\n",
       "0       116500               NaN                   NaN              NaN   \n",
       "1       206500               NaN                   NaN              NaN   \n",
       "2       406500              4.56                0.2000            595.0   \n",
       "3       456500              4.25                0.6810              NaN   \n",
       "4       696500              4.00                0.3042              0.0   \n",
       "\n",
       "    term Neg_ammortization interest_only lump_sum_payment  property_value  \\\n",
       "0  360.0           not_neg       not_int         not_lpsm        118000.0   \n",
       "1  360.0           not_neg       not_int             lpsm             NaN   \n",
       "2  360.0           neg_amm       not_int         not_lpsm        508000.0   \n",
       "3  360.0           not_neg       not_int         not_lpsm        658000.0   \n",
       "4  360.0           not_neg       not_int         not_lpsm        758000.0   \n",
       "\n",
       "  construction_type occupancy_type Secured_by total_units   income  \\\n",
       "0                sb             pr       home          1U   1740.0   \n",
       "1                sb             pr       home          1U   4980.0   \n",
       "2                sb             pr       home          1U   9480.0   \n",
       "3                sb             pr       home          1U  11880.0   \n",
       "4                sb             pr       home          1U  10440.0   \n",
       "\n",
       "  credit_type  Credit_Score co-applicant_credit_type    age  \\\n",
       "0         EXP           758                      CIB  25-34   \n",
       "1        EQUI           552                      EXP  55-64   \n",
       "2         EXP           834                      CIB  35-44   \n",
       "3         EXP           587                      CIB  45-54   \n",
       "4        CRIF           602                      EXP  25-34   \n",
       "\n",
       "  submission_of_application        LTV Region Security_Type  Status  dtir1  \n",
       "0                   to_inst  98.728814  south        direct       1   45.0  \n",
       "1                   to_inst        NaN  North        direct       1    NaN  \n",
       "2                   to_inst  80.019685  south        direct       0   46.0  \n",
       "3                  not_inst  69.376900  North        direct       0   42.0  \n",
       "4                  not_inst  91.886544  North        direct       0   39.0  "
      ]
     },
     "execution_count": 106,
     "metadata": {},
     "output_type": "execute_result"
    }
   ],
   "source": [
    "pd.set_option(\"display.max_columns\", df.shape[-1]) \n",
    "df.head(5)"
   ]
  },
  {
   "cell_type": "code",
   "execution_count": 107,
   "id": "21de5a40",
   "metadata": {},
   "outputs": [
    {
     "data": {
      "text/plain": [
       "ID                             int64\n",
       "year                           int64\n",
       "loan_limit                    object\n",
       "Gender                        object\n",
       "approv_in_adv                 object\n",
       "loan_type                     object\n",
       "loan_purpose                  object\n",
       "Credit_Worthiness             object\n",
       "open_credit                   object\n",
       "business_or_commercial        object\n",
       "loan_amount                    int64\n",
       "rate_of_interest             float64\n",
       "Interest_rate_spread         float64\n",
       "Upfront_charges              float64\n",
       "term                         float64\n",
       "Neg_ammortization             object\n",
       "interest_only                 object\n",
       "lump_sum_payment              object\n",
       "property_value               float64\n",
       "construction_type             object\n",
       "occupancy_type                object\n",
       "Secured_by                    object\n",
       "total_units                   object\n",
       "income                       float64\n",
       "credit_type                   object\n",
       "Credit_Score                   int64\n",
       "co-applicant_credit_type      object\n",
       "age                           object\n",
       "submission_of_application     object\n",
       "LTV                          float64\n",
       "Region                        object\n",
       "Security_Type                 object\n",
       "Status                         int64\n",
       "dtir1                        float64\n",
       "dtype: object"
      ]
     },
     "execution_count": 107,
     "metadata": {},
     "output_type": "execute_result"
    }
   ],
   "source": [
    "df.dtypes"
   ]
  },
  {
   "cell_type": "code",
   "execution_count": 108,
   "id": "e7a07a8e",
   "metadata": {},
   "outputs": [
    {
     "data": {
      "text/plain": [
       "Index(['ID', 'year', 'loan_limit', 'Gender', 'approv_in_adv', 'loan_type',\n",
       "       'loan_purpose', 'Credit_Worthiness', 'open_credit',\n",
       "       'business_or_commercial', 'loan_amount', 'rate_of_interest',\n",
       "       'Interest_rate_spread', 'Upfront_charges', 'term', 'Neg_ammortization',\n",
       "       'interest_only', 'lump_sum_payment', 'property_value',\n",
       "       'construction_type', 'occupancy_type', 'Secured_by', 'total_units',\n",
       "       'income', 'credit_type', 'Credit_Score', 'co-applicant_credit_type',\n",
       "       'age', 'submission_of_application', 'LTV', 'Region', 'Security_Type',\n",
       "       'Status', 'dtir1'],\n",
       "      dtype='object')"
      ]
     },
     "execution_count": 108,
     "metadata": {},
     "output_type": "execute_result"
    }
   ],
   "source": [
    "df.columns"
   ]
  },
  {
   "cell_type": "code",
   "execution_count": 109,
   "id": "025d9bed",
   "metadata": {},
   "outputs": [
    {
     "data": {
      "text/plain": [
       "Index(['id', 'year', 'loan_limit', 'gender', 'approv_in_adv', 'loan_type',\n",
       "       'loan_purpose', 'credit_worthiness', 'open_credit',\n",
       "       'business_or_commercial', 'loan_amount', 'rate_of_interest',\n",
       "       'interest_rate_spread', 'upfront_charges', 'term', 'neg_ammortization',\n",
       "       'interest_only', 'lump_sum_payment', 'property_value',\n",
       "       'construction_type', 'occupancy_type', 'secured_by', 'total_units',\n",
       "       'income', 'credit_type', 'credit_score', 'co-applicant_credit_type',\n",
       "       'age', 'submission_of_application', 'ltv', 'region', 'security_type',\n",
       "       'status', 'dtir1'],\n",
       "      dtype='object')"
      ]
     },
     "execution_count": 109,
     "metadata": {},
     "output_type": "execute_result"
    }
   ],
   "source": [
    "df.columns= df.columns.str.lower()\n",
    "df.columns"
   ]
  },
  {
   "cell_type": "code",
   "execution_count": 110,
   "id": "b85c9e03",
   "metadata": {},
   "outputs": [
    {
     "data": {
      "text/plain": [
       "Index(['loan_type', 'loan_amount', 'rate_of_interest', 'term',\n",
       "       'property_value', 'income', 'credit_score', 'age', 'status', 'dtir1'],\n",
       "      dtype='object')"
      ]
     },
     "execution_count": 110,
     "metadata": {},
     "output_type": "execute_result"
    }
   ],
   "source": [
    "columns= ['id', 'year', 'loan_limit', 'gender', 'approv_in_adv','loan_purpose', 'credit_worthiness', 'open_credit','business_or_commercial','interest_rate_spread', 'upfront_charges', 'neg_ammortization','interest_only', 'lump_sum_payment','construction_type', 'occupancy_type', 'secured_by', 'total_units','credit_type', 'co-applicant_credit_type','submission_of_application', 'ltv', 'region', 'security_type']\n",
    "df.drop(columns,axis=1, inplace =True)\n",
    "df.columns"
   ]
  },
  {
   "cell_type": "code",
   "execution_count": 111,
   "id": "f15159bb",
   "metadata": {},
   "outputs": [
    {
     "data": {
      "text/html": [
       "<div>\n",
       "<style scoped>\n",
       "    .dataframe tbody tr th:only-of-type {\n",
       "        vertical-align: middle;\n",
       "    }\n",
       "\n",
       "    .dataframe tbody tr th {\n",
       "        vertical-align: top;\n",
       "    }\n",
       "\n",
       "    .dataframe thead th {\n",
       "        text-align: right;\n",
       "    }\n",
       "</style>\n",
       "<table border=\"1\" class=\"dataframe\">\n",
       "  <thead>\n",
       "    <tr style=\"text-align: right;\">\n",
       "      <th></th>\n",
       "      <th>loan_type</th>\n",
       "      <th>loan_amount</th>\n",
       "      <th>rate_of_interest</th>\n",
       "      <th>term</th>\n",
       "      <th>property_value</th>\n",
       "      <th>income</th>\n",
       "      <th>credit_score</th>\n",
       "      <th>age</th>\n",
       "      <th>status</th>\n",
       "      <th>dtir1</th>\n",
       "    </tr>\n",
       "  </thead>\n",
       "  <tbody>\n",
       "    <tr>\n",
       "      <th>0</th>\n",
       "      <td>type1</td>\n",
       "      <td>116500</td>\n",
       "      <td>NaN</td>\n",
       "      <td>360.0</td>\n",
       "      <td>118000.0</td>\n",
       "      <td>1740.0</td>\n",
       "      <td>758</td>\n",
       "      <td>25-34</td>\n",
       "      <td>1</td>\n",
       "      <td>45.0</td>\n",
       "    </tr>\n",
       "    <tr>\n",
       "      <th>1</th>\n",
       "      <td>type2</td>\n",
       "      <td>206500</td>\n",
       "      <td>NaN</td>\n",
       "      <td>360.0</td>\n",
       "      <td>NaN</td>\n",
       "      <td>4980.0</td>\n",
       "      <td>552</td>\n",
       "      <td>55-64</td>\n",
       "      <td>1</td>\n",
       "      <td>NaN</td>\n",
       "    </tr>\n",
       "    <tr>\n",
       "      <th>2</th>\n",
       "      <td>type1</td>\n",
       "      <td>406500</td>\n",
       "      <td>4.560</td>\n",
       "      <td>360.0</td>\n",
       "      <td>508000.0</td>\n",
       "      <td>9480.0</td>\n",
       "      <td>834</td>\n",
       "      <td>35-44</td>\n",
       "      <td>0</td>\n",
       "      <td>46.0</td>\n",
       "    </tr>\n",
       "    <tr>\n",
       "      <th>3</th>\n",
       "      <td>type1</td>\n",
       "      <td>456500</td>\n",
       "      <td>4.250</td>\n",
       "      <td>360.0</td>\n",
       "      <td>658000.0</td>\n",
       "      <td>11880.0</td>\n",
       "      <td>587</td>\n",
       "      <td>45-54</td>\n",
       "      <td>0</td>\n",
       "      <td>42.0</td>\n",
       "    </tr>\n",
       "    <tr>\n",
       "      <th>4</th>\n",
       "      <td>type1</td>\n",
       "      <td>696500</td>\n",
       "      <td>4.000</td>\n",
       "      <td>360.0</td>\n",
       "      <td>758000.0</td>\n",
       "      <td>10440.0</td>\n",
       "      <td>602</td>\n",
       "      <td>25-34</td>\n",
       "      <td>0</td>\n",
       "      <td>39.0</td>\n",
       "    </tr>\n",
       "    <tr>\n",
       "      <th>...</th>\n",
       "      <td>...</td>\n",
       "      <td>...</td>\n",
       "      <td>...</td>\n",
       "      <td>...</td>\n",
       "      <td>...</td>\n",
       "      <td>...</td>\n",
       "      <td>...</td>\n",
       "      <td>...</td>\n",
       "      <td>...</td>\n",
       "      <td>...</td>\n",
       "    </tr>\n",
       "    <tr>\n",
       "      <th>148665</th>\n",
       "      <td>type1</td>\n",
       "      <td>436500</td>\n",
       "      <td>3.125</td>\n",
       "      <td>180.0</td>\n",
       "      <td>608000.0</td>\n",
       "      <td>7860.0</td>\n",
       "      <td>659</td>\n",
       "      <td>55-64</td>\n",
       "      <td>0</td>\n",
       "      <td>48.0</td>\n",
       "    </tr>\n",
       "    <tr>\n",
       "      <th>148666</th>\n",
       "      <td>type1</td>\n",
       "      <td>586500</td>\n",
       "      <td>5.190</td>\n",
       "      <td>360.0</td>\n",
       "      <td>788000.0</td>\n",
       "      <td>7140.0</td>\n",
       "      <td>569</td>\n",
       "      <td>25-34</td>\n",
       "      <td>0</td>\n",
       "      <td>15.0</td>\n",
       "    </tr>\n",
       "    <tr>\n",
       "      <th>148667</th>\n",
       "      <td>type1</td>\n",
       "      <td>446500</td>\n",
       "      <td>3.125</td>\n",
       "      <td>180.0</td>\n",
       "      <td>728000.0</td>\n",
       "      <td>6900.0</td>\n",
       "      <td>702</td>\n",
       "      <td>45-54</td>\n",
       "      <td>0</td>\n",
       "      <td>49.0</td>\n",
       "    </tr>\n",
       "    <tr>\n",
       "      <th>148668</th>\n",
       "      <td>type1</td>\n",
       "      <td>196500</td>\n",
       "      <td>3.500</td>\n",
       "      <td>180.0</td>\n",
       "      <td>278000.0</td>\n",
       "      <td>7140.0</td>\n",
       "      <td>737</td>\n",
       "      <td>55-64</td>\n",
       "      <td>0</td>\n",
       "      <td>29.0</td>\n",
       "    </tr>\n",
       "    <tr>\n",
       "      <th>148669</th>\n",
       "      <td>type1</td>\n",
       "      <td>406500</td>\n",
       "      <td>4.375</td>\n",
       "      <td>240.0</td>\n",
       "      <td>558000.0</td>\n",
       "      <td>7260.0</td>\n",
       "      <td>830</td>\n",
       "      <td>45-54</td>\n",
       "      <td>0</td>\n",
       "      <td>44.0</td>\n",
       "    </tr>\n",
       "  </tbody>\n",
       "</table>\n",
       "<p>148670 rows × 10 columns</p>\n",
       "</div>"
      ],
      "text/plain": [
       "       loan_type  loan_amount  rate_of_interest   term  property_value  \\\n",
       "0          type1       116500               NaN  360.0        118000.0   \n",
       "1          type2       206500               NaN  360.0             NaN   \n",
       "2          type1       406500             4.560  360.0        508000.0   \n",
       "3          type1       456500             4.250  360.0        658000.0   \n",
       "4          type1       696500             4.000  360.0        758000.0   \n",
       "...          ...          ...               ...    ...             ...   \n",
       "148665     type1       436500             3.125  180.0        608000.0   \n",
       "148666     type1       586500             5.190  360.0        788000.0   \n",
       "148667     type1       446500             3.125  180.0        728000.0   \n",
       "148668     type1       196500             3.500  180.0        278000.0   \n",
       "148669     type1       406500             4.375  240.0        558000.0   \n",
       "\n",
       "         income  credit_score    age  status  dtir1  \n",
       "0        1740.0           758  25-34       1   45.0  \n",
       "1        4980.0           552  55-64       1    NaN  \n",
       "2        9480.0           834  35-44       0   46.0  \n",
       "3       11880.0           587  45-54       0   42.0  \n",
       "4       10440.0           602  25-34       0   39.0  \n",
       "...         ...           ...    ...     ...    ...  \n",
       "148665   7860.0           659  55-64       0   48.0  \n",
       "148666   7140.0           569  25-34       0   15.0  \n",
       "148667   6900.0           702  45-54       0   49.0  \n",
       "148668   7140.0           737  55-64       0   29.0  \n",
       "148669   7260.0           830  45-54       0   44.0  \n",
       "\n",
       "[148670 rows x 10 columns]"
      ]
     },
     "execution_count": 111,
     "metadata": {},
     "output_type": "execute_result"
    }
   ],
   "source": [
    "df"
   ]
  },
  {
   "cell_type": "code",
   "execution_count": 112,
   "id": "7952eb92",
   "metadata": {},
   "outputs": [
    {
     "data": {
      "text/html": [
       "<div>\n",
       "<style scoped>\n",
       "    .dataframe tbody tr th:only-of-type {\n",
       "        vertical-align: middle;\n",
       "    }\n",
       "\n",
       "    .dataframe tbody tr th {\n",
       "        vertical-align: top;\n",
       "    }\n",
       "\n",
       "    .dataframe thead th {\n",
       "        text-align: right;\n",
       "    }\n",
       "</style>\n",
       "<table border=\"1\" class=\"dataframe\">\n",
       "  <thead>\n",
       "    <tr style=\"text-align: right;\">\n",
       "      <th></th>\n",
       "      <th>loan_amount</th>\n",
       "      <th>rate_of_interest</th>\n",
       "      <th>term</th>\n",
       "      <th>property_value</th>\n",
       "      <th>income</th>\n",
       "      <th>credit_score</th>\n",
       "      <th>status</th>\n",
       "      <th>dtir1</th>\n",
       "    </tr>\n",
       "  </thead>\n",
       "  <tbody>\n",
       "    <tr>\n",
       "      <th>count</th>\n",
       "      <td>1.486700e+05</td>\n",
       "      <td>112231.000000</td>\n",
       "      <td>148629.000000</td>\n",
       "      <td>1.335720e+05</td>\n",
       "      <td>139520.000000</td>\n",
       "      <td>148670.000000</td>\n",
       "      <td>148670.000000</td>\n",
       "      <td>124549.000000</td>\n",
       "    </tr>\n",
       "    <tr>\n",
       "      <th>mean</th>\n",
       "      <td>3.311177e+05</td>\n",
       "      <td>4.045476</td>\n",
       "      <td>335.136582</td>\n",
       "      <td>4.978935e+05</td>\n",
       "      <td>6957.338876</td>\n",
       "      <td>699.789103</td>\n",
       "      <td>0.246445</td>\n",
       "      <td>37.732932</td>\n",
       "    </tr>\n",
       "    <tr>\n",
       "      <th>std</th>\n",
       "      <td>1.839093e+05</td>\n",
       "      <td>0.561391</td>\n",
       "      <td>58.409084</td>\n",
       "      <td>3.599353e+05</td>\n",
       "      <td>6496.586382</td>\n",
       "      <td>115.875857</td>\n",
       "      <td>0.430942</td>\n",
       "      <td>10.545435</td>\n",
       "    </tr>\n",
       "    <tr>\n",
       "      <th>min</th>\n",
       "      <td>1.650000e+04</td>\n",
       "      <td>0.000000</td>\n",
       "      <td>96.000000</td>\n",
       "      <td>8.000000e+03</td>\n",
       "      <td>0.000000</td>\n",
       "      <td>500.000000</td>\n",
       "      <td>0.000000</td>\n",
       "      <td>5.000000</td>\n",
       "    </tr>\n",
       "    <tr>\n",
       "      <th>25%</th>\n",
       "      <td>1.965000e+05</td>\n",
       "      <td>3.625000</td>\n",
       "      <td>360.000000</td>\n",
       "      <td>2.680000e+05</td>\n",
       "      <td>3720.000000</td>\n",
       "      <td>599.000000</td>\n",
       "      <td>0.000000</td>\n",
       "      <td>31.000000</td>\n",
       "    </tr>\n",
       "    <tr>\n",
       "      <th>50%</th>\n",
       "      <td>2.965000e+05</td>\n",
       "      <td>3.990000</td>\n",
       "      <td>360.000000</td>\n",
       "      <td>4.180000e+05</td>\n",
       "      <td>5760.000000</td>\n",
       "      <td>699.000000</td>\n",
       "      <td>0.000000</td>\n",
       "      <td>39.000000</td>\n",
       "    </tr>\n",
       "    <tr>\n",
       "      <th>75%</th>\n",
       "      <td>4.365000e+05</td>\n",
       "      <td>4.375000</td>\n",
       "      <td>360.000000</td>\n",
       "      <td>6.280000e+05</td>\n",
       "      <td>8520.000000</td>\n",
       "      <td>800.000000</td>\n",
       "      <td>0.000000</td>\n",
       "      <td>45.000000</td>\n",
       "    </tr>\n",
       "    <tr>\n",
       "      <th>max</th>\n",
       "      <td>3.576500e+06</td>\n",
       "      <td>8.000000</td>\n",
       "      <td>360.000000</td>\n",
       "      <td>1.650800e+07</td>\n",
       "      <td>578580.000000</td>\n",
       "      <td>900.000000</td>\n",
       "      <td>1.000000</td>\n",
       "      <td>61.000000</td>\n",
       "    </tr>\n",
       "  </tbody>\n",
       "</table>\n",
       "</div>"
      ],
      "text/plain": [
       "        loan_amount  rate_of_interest           term  property_value  \\\n",
       "count  1.486700e+05     112231.000000  148629.000000    1.335720e+05   \n",
       "mean   3.311177e+05          4.045476     335.136582    4.978935e+05   \n",
       "std    1.839093e+05          0.561391      58.409084    3.599353e+05   \n",
       "min    1.650000e+04          0.000000      96.000000    8.000000e+03   \n",
       "25%    1.965000e+05          3.625000     360.000000    2.680000e+05   \n",
       "50%    2.965000e+05          3.990000     360.000000    4.180000e+05   \n",
       "75%    4.365000e+05          4.375000     360.000000    6.280000e+05   \n",
       "max    3.576500e+06          8.000000     360.000000    1.650800e+07   \n",
       "\n",
       "              income   credit_score         status          dtir1  \n",
       "count  139520.000000  148670.000000  148670.000000  124549.000000  \n",
       "mean     6957.338876     699.789103       0.246445      37.732932  \n",
       "std      6496.586382     115.875857       0.430942      10.545435  \n",
       "min         0.000000     500.000000       0.000000       5.000000  \n",
       "25%      3720.000000     599.000000       0.000000      31.000000  \n",
       "50%      5760.000000     699.000000       0.000000      39.000000  \n",
       "75%      8520.000000     800.000000       0.000000      45.000000  \n",
       "max    578580.000000     900.000000       1.000000      61.000000  "
      ]
     },
     "execution_count": 112,
     "metadata": {},
     "output_type": "execute_result"
    }
   ],
   "source": [
    "df.describe()"
   ]
  },
  {
   "cell_type": "code",
   "execution_count": 113,
   "id": "dfc255c2",
   "metadata": {},
   "outputs": [
    {
     "data": {
      "text/plain": [
       "6"
      ]
     },
     "execution_count": 113,
     "metadata": {},
     "output_type": "execute_result"
    }
   ],
   "source": [
    "df.duplicated().sum()"
   ]
  },
  {
   "cell_type": "code",
   "execution_count": 114,
   "id": "d8cd975d",
   "metadata": {},
   "outputs": [
    {
     "data": {
      "text/plain": [
       "0"
      ]
     },
     "execution_count": 114,
     "metadata": {},
     "output_type": "execute_result"
    }
   ],
   "source": [
    "df.drop_duplicates(inplace=True)\n",
    "df.duplicated().sum()"
   ]
  },
  {
   "cell_type": "code",
   "execution_count": 115,
   "id": "0fa45189",
   "metadata": {},
   "outputs": [
    {
     "data": {
      "text/plain": [
       "(148664, 10)"
      ]
     },
     "execution_count": 115,
     "metadata": {},
     "output_type": "execute_result"
    }
   ],
   "source": [
    "df.shape"
   ]
  },
  {
   "cell_type": "code",
   "execution_count": 116,
   "id": "61aa92b5",
   "metadata": {},
   "outputs": [
    {
     "data": {
      "text/plain": [
       "loan_type               0\n",
       "loan_amount             0\n",
       "rate_of_interest    36437\n",
       "term                   41\n",
       "property_value      15096\n",
       "income               9146\n",
       "credit_score            0\n",
       "age                   200\n",
       "status                  0\n",
       "dtir1               24115\n",
       "dtype: int64"
      ]
     },
     "execution_count": 116,
     "metadata": {},
     "output_type": "execute_result"
    }
   ],
   "source": [
    "df.isna().sum()"
   ]
  },
  {
   "cell_type": "code",
   "execution_count": 117,
   "id": "9b0fb337",
   "metadata": {},
   "outputs": [
    {
     "name": "stdout",
     "output_type": "stream",
     "text": [
      "<class 'pandas.core.frame.DataFrame'>\n",
      "Index: 148664 entries, 0 to 148669\n",
      "Data columns (total 10 columns):\n",
      " #   Column            Non-Null Count   Dtype  \n",
      "---  ------            --------------   -----  \n",
      " 0   loan_type         148664 non-null  object \n",
      " 1   loan_amount       148664 non-null  int64  \n",
      " 2   rate_of_interest  112227 non-null  float64\n",
      " 3   term              148623 non-null  float64\n",
      " 4   property_value    133568 non-null  float64\n",
      " 5   income            139518 non-null  float64\n",
      " 6   credit_score      148664 non-null  int64  \n",
      " 7   age               148464 non-null  object \n",
      " 8   status            148664 non-null  int64  \n",
      " 9   dtir1             124549 non-null  float64\n",
      "dtypes: float64(5), int64(3), object(2)\n",
      "memory usage: 12.5+ MB\n"
     ]
    }
   ],
   "source": [
    "df.info()"
   ]
  },
  {
   "cell_type": "markdown",
   "id": "a35728d4",
   "metadata": {},
   "source": [
    "## EDA"
   ]
  },
  {
   "cell_type": "code",
   "execution_count": 118,
   "id": "c2240d69",
   "metadata": {},
   "outputs": [],
   "source": [
    "from sklearn.impute import SimpleImputer\n",
    "imputer = SimpleImputer()\n",
    "df[['rate_of_interest', 'term','property_value','income','dtir1']] = imputer.fit_transform(df[['rate_of_interest', 'term','property_value','income','dtir1']])"
   ]
  },
  {
   "cell_type": "code",
   "execution_count": 119,
   "id": "745bc7d4",
   "metadata": {},
   "outputs": [],
   "source": [
    "from sklearn.impute import SimpleImputer\n",
    "imputer = SimpleImputer(strategy='most_frequent')\n",
    "df[['age']] = imputer.fit_transform(df[['age']])"
   ]
  },
  {
   "cell_type": "code",
   "execution_count": 120,
   "id": "b814c42b",
   "metadata": {},
   "outputs": [
    {
     "data": {
      "text/plain": [
       "loan_type           0\n",
       "loan_amount         0\n",
       "rate_of_interest    0\n",
       "term                0\n",
       "property_value      0\n",
       "income              0\n",
       "credit_score        0\n",
       "age                 0\n",
       "status              0\n",
       "dtir1               0\n",
       "dtype: int64"
      ]
     },
     "execution_count": 120,
     "metadata": {},
     "output_type": "execute_result"
    }
   ],
   "source": [
    "df.isna().sum()"
   ]
  },
  {
   "cell_type": "code",
   "execution_count": 121,
   "id": "1be0fb1d",
   "metadata": {},
   "outputs": [
    {
     "data": {
      "text/plain": [
       "Index(['loan_type', 'loan_amount', 'rate_of_interest', 'term',\n",
       "       'property_value', 'income', 'credit_score', 'age', 'status', 'dtir1'],\n",
       "      dtype='object')"
      ]
     },
     "execution_count": 121,
     "metadata": {},
     "output_type": "execute_result"
    }
   ],
   "source": [
    "df.columns"
   ]
  },
  {
   "cell_type": "code",
   "execution_count": 122,
   "id": "ec07aeed",
   "metadata": {},
   "outputs": [
    {
     "data": {
      "text/plain": [
       "'type3'"
      ]
     },
     "execution_count": 122,
     "metadata": {},
     "output_type": "execute_result"
    }
   ],
   "source": [
    "df['loan_type'].max()"
   ]
  },
  {
   "cell_type": "code",
   "execution_count": 123,
   "id": "5482bbfc",
   "metadata": {},
   "outputs": [
    {
     "data": {
      "text/plain": [
       "'type1'"
      ]
     },
     "execution_count": 123,
     "metadata": {},
     "output_type": "execute_result"
    }
   ],
   "source": [
    "df['loan_type'].min()"
   ]
  },
  {
   "cell_type": "code",
   "execution_count": 124,
   "id": "1610e8cc",
   "metadata": {},
   "outputs": [
    {
     "data": {
      "text/plain": [
       "3576500"
      ]
     },
     "execution_count": 124,
     "metadata": {},
     "output_type": "execute_result"
    }
   ],
   "source": [
    "df['loan_amount'].max()"
   ]
  },
  {
   "cell_type": "code",
   "execution_count": 125,
   "id": "c455fe22",
   "metadata": {},
   "outputs": [
    {
     "data": {
      "text/plain": [
       "16500"
      ]
     },
     "execution_count": 125,
     "metadata": {},
     "output_type": "execute_result"
    }
   ],
   "source": [
    "df['loan_amount'].min()"
   ]
  },
  {
   "cell_type": "code",
   "execution_count": 126,
   "id": "75491844",
   "metadata": {},
   "outputs": [
    {
     "data": {
      "text/plain": [
       "age\n",
       "45-54    34919\n",
       "35-44    32815\n",
       "55-64    32533\n",
       "65-74    20744\n",
       "25-34    19141\n",
       ">74       7175\n",
       "<25       1337\n",
       "Name: count, dtype: int64"
      ]
     },
     "execution_count": 126,
     "metadata": {},
     "output_type": "execute_result"
    }
   ],
   "source": [
    "df['age'].value_counts()"
   ]
  },
  {
   "cell_type": "code",
   "execution_count": 127,
   "id": "799da477",
   "metadata": {},
   "outputs": [
    {
     "data": {
      "text/plain": [
       "8.0"
      ]
     },
     "execution_count": 127,
     "metadata": {},
     "output_type": "execute_result"
    }
   ],
   "source": [
    "df['rate_of_interest'].max()"
   ]
  },
  {
   "cell_type": "code",
   "execution_count": 128,
   "id": "b578ee75",
   "metadata": {},
   "outputs": [
    {
     "data": {
      "text/plain": [
       "0.0"
      ]
     },
     "execution_count": 128,
     "metadata": {},
     "output_type": "execute_result"
    }
   ],
   "source": [
    "df['rate_of_interest'].min()     #!!!"
   ]
  },
  {
   "cell_type": "code",
   "execution_count": 129,
   "id": "1b413040",
   "metadata": {},
   "outputs": [
    {
     "data": {
      "text/plain": [
       "4.045481969579513"
      ]
     },
     "execution_count": 129,
     "metadata": {},
     "output_type": "execute_result"
    }
   ],
   "source": [
    "df['rate_of_interest'].mean()"
   ]
  },
  {
   "cell_type": "code",
   "execution_count": 130,
   "id": "36a582a7",
   "metadata": {},
   "outputs": [
    {
     "data": {
      "text/plain": [
       "status\n",
       "0    112027\n",
       "1     36637\n",
       "Name: count, dtype: int64"
      ]
     },
     "execution_count": 130,
     "metadata": {},
     "output_type": "execute_result"
    }
   ],
   "source": [
    "df['status'].value_counts()"
   ]
  },
  {
   "cell_type": "code",
   "execution_count": 131,
   "id": "cb947777",
   "metadata": {},
   "outputs": [
    {
     "data": {
      "text/plain": [
       "property_value\n",
       "4.979002e+05    15096\n",
       "3.080000e+05     2791\n",
       "2.580000e+05     2763\n",
       "3.580000e+05     2679\n",
       "4.080000e+05     2537\n",
       "                ...  \n",
       "4.648000e+06        1\n",
       "3.878000e+06        1\n",
       "5.758000e+06        1\n",
       "2.618000e+06        1\n",
       "2.698000e+06        1\n",
       "Name: count, Length: 386, dtype: int64"
      ]
     },
     "execution_count": 131,
     "metadata": {},
     "output_type": "execute_result"
    }
   ],
   "source": [
    "df['property_value'].value_counts()"
   ]
  },
  {
   "cell_type": "code",
   "execution_count": 132,
   "id": "56261e30",
   "metadata": {},
   "outputs": [
    {
     "data": {
      "text/plain": [
       "16508000.0"
      ]
     },
     "execution_count": 132,
     "metadata": {},
     "output_type": "execute_result"
    }
   ],
   "source": [
    "df['property_value'].max()"
   ]
  },
  {
   "cell_type": "code",
   "execution_count": 133,
   "id": "744852bc",
   "metadata": {},
   "outputs": [
    {
     "data": {
      "text/plain": [
       "8000.0"
      ]
     },
     "execution_count": 133,
     "metadata": {},
     "output_type": "execute_result"
    }
   ],
   "source": [
    "df['property_value'].min()"
   ]
  },
  {
   "cell_type": "code",
   "execution_count": 134,
   "id": "d48aa35d",
   "metadata": {},
   "outputs": [
    {
     "data": {
      "text/plain": [
       "3576500"
      ]
     },
     "execution_count": 134,
     "metadata": {},
     "output_type": "execute_result"
    }
   ],
   "source": [
    "df['loan_amount'].max()"
   ]
  },
  {
   "cell_type": "code",
   "execution_count": 135,
   "id": "1bb0aade",
   "metadata": {},
   "outputs": [
    {
     "data": {
      "text/plain": [
       "17114    2476500\n",
       "Name: loan_amount, dtype: int64"
      ]
     },
     "execution_count": 135,
     "metadata": {},
     "output_type": "execute_result"
    }
   ],
   "source": [
    "mask=df['property_value']==df['property_value'].max()\n",
    "df[mask]['loan_amount']"
   ]
  },
  {
   "cell_type": "code",
   "execution_count": 136,
   "id": "f4e139f4",
   "metadata": {},
   "outputs": [
    {
     "data": {
      "text/plain": [
       "62237    1\n",
       "Name: status, dtype: int64"
      ]
     },
     "execution_count": 136,
     "metadata": {},
     "output_type": "execute_result"
    }
   ],
   "source": [
    "mask = df['income']==df['income'].max()\n",
    "df[mask]['status']"
   ]
  },
  {
   "cell_type": "code",
   "execution_count": 137,
   "id": "243a544b",
   "metadata": {},
   "outputs": [
    {
     "data": {
      "text/plain": [
       "62237    4.045482\n",
       "Name: rate_of_interest, dtype: float64"
      ]
     },
     "execution_count": 137,
     "metadata": {},
     "output_type": "execute_result"
    }
   ],
   "source": [
    "mask = df['income']==df['income'].max()\n",
    "df[mask]['rate_of_interest']"
   ]
  },
  {
   "cell_type": "code",
   "execution_count": 138,
   "id": "248fd42a",
   "metadata": {},
   "outputs": [
    {
     "data": {
      "text/plain": [
       "42        1\n",
       "143       1\n",
       "208       1\n",
       "301       1\n",
       "409       1\n",
       "         ..\n",
       "147632    1\n",
       "147728    1\n",
       "148163    1\n",
       "148197    1\n",
       "148349    1\n",
       "Name: status, Length: 1259, dtype: int64"
      ]
     },
     "execution_count": 138,
     "metadata": {},
     "output_type": "execute_result"
    }
   ],
   "source": [
    "mask = df['income']==df['income'].min()           #!!!\n",
    "df[mask]['status']"
   ]
  },
  {
   "cell_type": "code",
   "execution_count": 139,
   "id": "4c7ce5b0",
   "metadata": {},
   "outputs": [
    {
     "data": {
      "text/plain": [
       "rate_of_interest\n",
       "4.045482    1251\n",
       "4.125000       2\n",
       "3.625000       1\n",
       "2.990000       1\n",
       "4.750000       1\n",
       "0.000000       1\n",
       "3.875000       1\n",
       "4.250000       1\n",
       "Name: count, dtype: int64"
      ]
     },
     "execution_count": 139,
     "metadata": {},
     "output_type": "execute_result"
    }
   ],
   "source": [
    "mask = df['income']==df['income'].min()\n",
    "df[mask]['rate_of_interest'].value_counts()"
   ]
  },
  {
   "cell_type": "code",
   "execution_count": 140,
   "id": "890bf6b8",
   "metadata": {},
   "outputs": [
    {
     "data": {
      "text/plain": [
       "income\n",
       "6957.392164      9146\n",
       "0.000000         1259\n",
       "3600.000000      1250\n",
       "4200.000000      1243\n",
       "4800.000000      1191\n",
       "                 ... \n",
       "45300.000000        1\n",
       "154440.000000       1\n",
       "137760.000000       1\n",
       "145560.000000       1\n",
       "79920.000000        1\n",
       "Name: count, Length: 1002, dtype: int64"
      ]
     },
     "execution_count": 140,
     "metadata": {},
     "output_type": "execute_result"
    }
   ],
   "source": [
    "df['income'].value_counts()"
   ]
  },
  {
   "cell_type": "code",
   "execution_count": 141,
   "id": "e866f4cd",
   "metadata": {},
   "outputs": [
    {
     "data": {
      "text/plain": [
       "6957.392164451898"
      ]
     },
     "execution_count": 141,
     "metadata": {},
     "output_type": "execute_result"
    }
   ],
   "source": [
    "df['income'].mean()"
   ]
  },
  {
   "cell_type": "code",
   "execution_count": 142,
   "id": "c37634ca",
   "metadata": {},
   "outputs": [],
   "source": [
    "mask=df['income']<2000"
   ]
  },
  {
   "cell_type": "code",
   "execution_count": 143,
   "id": "fdd24597",
   "metadata": {},
   "outputs": [
    {
     "data": {
      "text/plain": [
       "income\n",
       "False    140706\n",
       "True       7958\n",
       "Name: count, dtype: int64"
      ]
     },
     "execution_count": 143,
     "metadata": {},
     "output_type": "execute_result"
    }
   ],
   "source": [
    "mask.value_counts()            # there is income less than 2000"
   ]
  },
  {
   "cell_type": "code",
   "execution_count": 144,
   "id": "961af4e6",
   "metadata": {},
   "outputs": [],
   "source": [
    "df['income']=df['income'].apply(lambda x: x if x not in mask else df['income'].mean())"
   ]
  },
  {
   "cell_type": "code",
   "execution_count": 145,
   "id": "3498cbe5",
   "metadata": {},
   "outputs": [
    {
     "data": {
      "text/plain": [
       "income\n",
       "False    148664\n",
       "Name: count, dtype: int64"
      ]
     },
     "execution_count": 145,
     "metadata": {},
     "output_type": "execute_result"
    }
   ],
   "source": [
    "mask=df['income']<2000\n",
    "mask.value_counts()"
   ]
  },
  {
   "cell_type": "code",
   "execution_count": 146,
   "id": "2370626e",
   "metadata": {},
   "outputs": [
    {
     "data": {
      "text/plain": [
       "6957.392164451898"
      ]
     },
     "execution_count": 146,
     "metadata": {},
     "output_type": "execute_result"
    }
   ],
   "source": [
    "df['income'].min()"
   ]
  },
  {
   "cell_type": "code",
   "execution_count": 147,
   "id": "2912fe86",
   "metadata": {},
   "outputs": [
    {
     "data": {
      "text/plain": [
       "rate_of_interest\n",
       "4.045482    36437\n",
       "3.990000    14454\n",
       "3.625000     8799\n",
       "3.875000     8592\n",
       "3.750000     8473\n",
       "            ...  \n",
       "4.700000        1\n",
       "8.000000        1\n",
       "7.750000        1\n",
       "5.300000        1\n",
       "2.700000        1\n",
       "Name: count, Length: 132, dtype: int64"
      ]
     },
     "execution_count": 147,
     "metadata": {},
     "output_type": "execute_result"
    }
   ],
   "source": [
    "df['rate_of_interest'].value_counts()"
   ]
  },
  {
   "cell_type": "code",
   "execution_count": 148,
   "id": "db3ee38c",
   "metadata": {},
   "outputs": [
    {
     "data": {
      "text/plain": [
       "0.0"
      ]
     },
     "execution_count": 148,
     "metadata": {},
     "output_type": "execute_result"
    }
   ],
   "source": [
    "df['rate_of_interest'].min()      # interest rate shall not be zero"
   ]
  },
  {
   "cell_type": "code",
   "execution_count": 149,
   "id": "705e6d2d",
   "metadata": {},
   "outputs": [
    {
     "data": {
      "text/plain": [
       "4.045481969579513"
      ]
     },
     "execution_count": 149,
     "metadata": {},
     "output_type": "execute_result"
    }
   ],
   "source": [
    "df['rate_of_interest'].mean()"
   ]
  },
  {
   "cell_type": "code",
   "execution_count": 150,
   "id": "f890f73d",
   "metadata": {},
   "outputs": [
    {
     "data": {
      "text/plain": [
       "rate_of_interest\n",
       "False    148663\n",
       "True          1\n",
       "Name: count, dtype: int64"
      ]
     },
     "execution_count": 150,
     "metadata": {},
     "output_type": "execute_result"
    }
   ],
   "source": [
    "mask=df['rate_of_interest']==0\n",
    "mask.value_counts()"
   ]
  },
  {
   "cell_type": "code",
   "execution_count": 151,
   "id": "040c734d",
   "metadata": {},
   "outputs": [],
   "source": [
    "df['rate_of_interest']=df['rate_of_interest'].apply(lambda x: x if x not in mask else df['rate_of_interest'].mean())"
   ]
  },
  {
   "cell_type": "code",
   "execution_count": 152,
   "id": "b68de83c",
   "metadata": {},
   "outputs": [
    {
     "data": {
      "text/plain": [
       "2.125"
      ]
     },
     "execution_count": 152,
     "metadata": {},
     "output_type": "execute_result"
    }
   ],
   "source": [
    "df['rate_of_interest'].min()"
   ]
  },
  {
   "cell_type": "markdown",
   "id": "efb423f7",
   "metadata": {},
   "source": [
    "## Data Visualization"
   ]
  },
  {
   "cell_type": "code",
   "execution_count": 153,
   "id": "af5637d6",
   "metadata": {},
   "outputs": [
    {
     "data": {
      "text/plain": [
       "<Axes: xlabel='loan_type', ylabel='count'>"
      ]
     },
     "execution_count": 153,
     "metadata": {},
     "output_type": "execute_result"
    },
    {
     "data": {
      "image/png": "[encoded data removed]",
      "text/plain": [
       "<Figure size 640x480 with 1 Axes>"
      ]
     },
     "metadata": {},
     "output_type": "display_data"
    }
   ],
   "source": [
    "sns.countplot(data=df , x='loan_type')"
   ]
  },
  {
   "cell_type": "code",
   "execution_count": 154,
   "id": "d6573122",
   "metadata": {},
   "outputs": [
    {
     "data": {
      "text/plain": [
       "<Axes: xlabel='status', ylabel='count'>"
      ]
     },
     "execution_count": 154,
     "metadata": {},
     "output_type": "execute_result"
    },
    {
     "data": {
      "image/png": "[encoded data removed]",
      "text/plain": [
       "<Figure size 640x480 with 1 Axes>"
      ]
     },
     "metadata": {},
     "output_type": "display_data"
    }
   ],
   "source": [
    "sns.countplot(data=df , x='status')"
   ]
  },
  {
   "cell_type": "code",
   "execution_count": 155,
   "id": "0fa924d5",
   "metadata": {},
   "outputs": [
    {
     "data": {
      "text/plain": [
       "<Axes: xlabel='age', ylabel='count'>"
      ]
     },
     "execution_count": 155,
     "metadata": {},
     "output_type": "execute_result"
    },
    {
     "data": {
      "image/png": "[encoded data removed]",
      "text/plain": [
       "<Figure size 640x480 with 1 Axes>"
      ]
     },
     "metadata": {},
     "output_type": "display_data"
    }
   ],
   "source": [
    "sns.countplot(data=df , x='age')"
   ]
  },
  {
   "cell_type": "code",
   "execution_count": 156,
   "id": "fc68b23b",
   "metadata": {},
   "outputs": [
    {
     "data": {
      "text/plain": [
       "<Axes: xlabel='rate_of_interest', ylabel='income'>"
      ]
     },
     "execution_count": 156,
     "metadata": {},
     "output_type": "execute_result"
    },
    {
     "data": {
      "image/png": "[encoded data removed]",
      "text/plain": [
       "<Figure size 640x480 with 1 Axes>"
      ]
     },
     "metadata": {},
     "output_type": "display_data"
    }
   ],
   "source": [
    "sns.lineplot(data=df, x=\"rate_of_interest\", y=\"income\", hue=\"status\")"
   ]
  },
  {
   "cell_type": "code",
   "execution_count": 157,
   "id": "9bdf9db7",
   "metadata": {},
   "outputs": [
    {
     "data": {
      "text/plain": [
       "<seaborn.axisgrid.FacetGrid at 0x24b0e2dff50>"
      ]
     },
     "execution_count": 157,
     "metadata": {},
     "output_type": "execute_result"
    },
    {
     "data": {
      "image/png": "[encoded data removed]",
      "text/plain": [
       "<Figure size 500x500 with 1 Axes>"
      ]
     },
     "metadata": {},
     "output_type": "display_data"
    }
   ],
   "source": [
    "sns.relplot(x =\"rate_of_interest\", y =\"income\",data = df)"
   ]
  },
  {
   "cell_type": "code",
   "execution_count": 158,
   "id": "a2a9a9da",
   "metadata": {},
   "outputs": [
    {
     "data": {
      "text/plain": [
       "<seaborn.axisgrid.FacetGrid at 0x24b12ffbd40>"
      ]
     },
     "execution_count": 158,
     "metadata": {},
     "output_type": "execute_result"
    },
    {
     "data": {
      "image/png": "[encoded data removed]",
      "text/plain": [
       "<Figure size 500x500 with 1 Axes>"
      ]
     },
     "metadata": {},
     "output_type": "display_data"
    }
   ],
   "source": [
    "sns.relplot(x =\"loan_amount\", y =\"income\",data = df)"
   ]
  },
  {
   "cell_type": "code",
   "execution_count": 159,
   "id": "097391a3",
   "metadata": {},
   "outputs": [
    {
     "data": {
      "text/plain": [
       "<seaborn.axisgrid.FacetGrid at 0x24b130b38c0>"
      ]
     },
     "execution_count": 159,
     "metadata": {},
     "output_type": "execute_result"
    },
    {
     "data": {
      "image/png": "[encoded data removed]",
      "text/plain": [
       "<Figure size 590x500 with 1 Axes>"
      ]
     },
     "metadata": {},
     "output_type": "display_data"
    }
   ],
   "source": [
    "sns.relplot(x =\"rate_of_interest\", y =\"loan_amount\", hue='age' ,data = df)"
   ]
  },
  {
   "cell_type": "code",
   "execution_count": 160,
   "id": "32f8ea56",
   "metadata": {},
   "outputs": [
    {
     "data": {
      "text/plain": [
       "<seaborn.axisgrid.FacetGrid at 0x24b13b8c8c0>"
      ]
     },
     "execution_count": 160,
     "metadata": {},
     "output_type": "execute_result"
    },
    {
     "data": {
      "image/png": "[encoded data removed]",
      "text/plain": [
       "<Figure size 558.875x500 with 1 Axes>"
      ]
     },
     "metadata": {},
     "output_type": "display_data"
    }
   ],
   "source": [
    "sns.relplot(x =\"rate_of_interest\", y =\"loan_amount\", hue='status' ,data = df)"
   ]
  },
  {
   "cell_type": "code",
   "execution_count": 161,
   "id": "3e12b956",
   "metadata": {},
   "outputs": [
    {
     "name": "stderr",
     "output_type": "stream",
     "text": [
      "C:\\Users\\kalya\\AppData\\Local\\Temp\\ipykernel_3736\\258400812.py:1: UserWarning: \n",
      "\n",
      "`distplot` is a deprecated function and will be removed in seaborn v0.14.0.\n",
      "\n",
      "Please adapt your code to use either `displot` (a figure-level function with\n",
      "similar flexibility) or `histplot` (an axes-level function for histograms).\n",
      "\n",
      "For a guide to updating your code to use the new functions, please see\n",
      "https://gist.github.com/mwaskom/de44147ed2974457ad6372750bbe5751\n",
      "\n",
      "  sns.distplot(df['loan_amount'])\n"
     ]
    },
    {
     "data": {
      "text/plain": [
       "<Axes: xlabel='loan_amount', ylabel='Density'>"
      ]
     },
     "execution_count": 161,
     "metadata": {},
     "output_type": "execute_result"
    },
    {
     "data": {
      "image/png": "[encoded data removed]",
      "text/plain": [
       "<Figure size 640x480 with 1 Axes>"
      ]
     },
     "metadata": {},
     "output_type": "display_data"
    }
   ],
   "source": [
    "sns.distplot(df['loan_amount'])"
   ]
  },
  {
   "cell_type": "code",
   "execution_count": 162,
   "id": "950d5071",
   "metadata": {},
   "outputs": [],
   "source": [
    "sns.pairplot(df)"
   ]
  },
  {
   "cell_type": "code",
   "execution_count": null,
   "id": "4b5a7e8b",
   "metadata": {},
   "outputs": [
    {
     "data": {
      "text/plain": [
       "<Axes: xlabel='status', ylabel='loan_amount'>"
      ]
     },
     "execution_count": 65,
     "metadata": {},
     "output_type": "execute_result"
    },
    {
     "data": {
      "image/png": "[encoded data removed]",
      "text/plain": [
       "<Figure size 640x480 with 1 Axes>"
      ]
     },
     "metadata": {},
     "output_type": "display_data"
    }
   ],
   "source": [
    "sns.boxplot(data=df , x='status' , y ='loan_amount')"
   ]
  },
  {
   "cell_type": "code",
   "execution_count": null,
   "id": "757a0355",
   "metadata": {},
   "outputs": [
    {
     "data": {
      "text/plain": [
       "<Axes: xlabel='status', ylabel='term'>"
      ]
     },
     "execution_count": 66,
     "metadata": {},
     "output_type": "execute_result"
    },
    {
     "data": {
      "image/png": "[encoded data removed]",
      "text/plain": [
       "<Figure size 640x480 with 1 Axes>"
      ]
     },
     "metadata": {},
     "output_type": "display_data"
    }
   ],
   "source": [
    "sns.boxplot(data=df , x='status' , y ='term')"
   ]
  },
  {
   "cell_type": "code",
   "execution_count": null,
   "id": "9496b927",
   "metadata": {},
   "outputs": [
    {
     "data": {
      "text/plain": [
       "<Axes: xlabel='status', ylabel='income'>"
      ]
     },
     "execution_count": 67,
     "metadata": {},
     "output_type": "execute_result"
    },
    {
     "data": {
      "image/png": "[encoded data removed]",
      "text/plain": [
       "<Figure size 640x480 with 1 Axes>"
      ]
     },
     "metadata": {},
     "output_type": "display_data"
    }
   ],
   "source": [
    "sns.boxplot(data=df , x='status' , y ='income' , hue='age')"
   ]
  },
  {
   "cell_type": "code",
   "execution_count": null,
   "id": "c05d5713",
   "metadata": {},
   "outputs": [
    {
     "data": {
      "text/plain": [
       "<Axes: xlabel='age', ylabel='credit_score'>"
      ]
     },
     "execution_count": 68,
     "metadata": {},
     "output_type": "execute_result"
    },
    {
     "data": {
      "image/png": "[encoded data removed]",
      "text/plain": [
       "<Figure size 640x480 with 1 Axes>"
      ]
     },
     "metadata": {},
     "output_type": "display_data"
    }
   ],
   "source": [
    "sns.boxplot(data=df , x='age' , y ='credit_score' , hue='status')"
   ]
  },
  {
   "cell_type": "markdown",
   "id": "71874c36",
   "metadata": {},
   "source": [
    "## All data must be numerical to be used in the machine learning model"
   ]
  },
  {
   "cell_type": "code",
   "execution_count": null,
   "id": "5d5749ca",
   "metadata": {},
   "outputs": [
    {
     "name": "stdout",
     "output_type": "stream",
     "text": [
      "<class 'pandas.core.frame.DataFrame'>\n",
      "Index: 148664 entries, 0 to 148669\n",
      "Data columns (total 10 columns):\n",
      " #   Column            Non-Null Count   Dtype  \n",
      "---  ------            --------------   -----  \n",
      " 0   loan_type         148664 non-null  object \n",
      " 1   loan_amount       148664 non-null  int64  \n",
      " 2   rate_of_interest  148664 non-null  float64\n",
      " 3   term              148664 non-null  float64\n",
      " 4   property_value    148664 non-null  float64\n",
      " 5   income            148664 non-null  float64\n",
      " 6   credit_score      148664 non-null  int64  \n",
      " 7   age               148664 non-null  object \n",
      " 8   status            148664 non-null  int64  \n",
      " 9   dtir1             148664 non-null  float64\n",
      "dtypes: float64(5), int64(3), object(2)\n",
      "memory usage: 16.5+ MB\n"
     ]
    }
   ],
   "source": [
    "df.info()"
   ]
  },
  {
   "cell_type": "code",
   "execution_count": null,
   "id": "0204d51f",
   "metadata": {},
   "outputs": [],
   "source": [
    "df = pd.get_dummies(df, columns=['loan_type','age'], drop_first=True)"
   ]
  },
  {
   "cell_type": "code",
   "execution_count": null,
   "id": "ffa2fd6e",
   "metadata": {},
   "outputs": [
    {
     "name": "stdout",
     "output_type": "stream",
     "text": [
      "<class 'pandas.core.frame.DataFrame'>\n",
      "Index: 148664 entries, 0 to 148669\n",
      "Data columns (total 16 columns):\n",
      " #   Column            Non-Null Count   Dtype  \n",
      "---  ------            --------------   -----  \n",
      " 0   loan_amount       148664 non-null  int64  \n",
      " 1   rate_of_interest  148664 non-null  float64\n",
      " 2   term              148664 non-null  float64\n",
      " 3   property_value    148664 non-null  float64\n",
      " 4   income            148664 non-null  float64\n",
      " 5   credit_score      148664 non-null  int64  \n",
      " 6   status            148664 non-null  int64  \n",
      " 7   dtir1             148664 non-null  float64\n",
      " 8   loan_type_type2   148664 non-null  bool   \n",
      " 9   loan_type_type3   148664 non-null  bool   \n",
      " 10  age_35-44         148664 non-null  bool   \n",
      " 11  age_45-54         148664 non-null  bool   \n",
      " 12  age_55-64         148664 non-null  bool   \n",
      " 13  age_65-74         148664 non-null  bool   \n",
      " 14  age_<25           148664 non-null  bool   \n",
      " 15  age_>74           148664 non-null  bool   \n",
      "dtypes: bool(8), float64(5), int64(3)\n",
      "memory usage: 15.4 MB\n"
     ]
    }
   ],
   "source": [
    "df.info()"
   ]
  },
  {
   "cell_type": "code",
   "execution_count": null,
   "id": "1752a16c",
   "metadata": {},
   "outputs": [
    {
     "data": {
      "text/html": [
       "<div>\n",
       "<style scoped>\n",
       "    .dataframe tbody tr th:only-of-type {\n",
       "        vertical-align: middle;\n",
       "    }\n",
       "\n",
       "    .dataframe tbody tr th {\n",
       "        vertical-align: top;\n",
       "    }\n",
       "\n",
       "    .dataframe thead th {\n",
       "        text-align: right;\n",
       "    }\n",
       "</style>\n",
       "<table border=\"1\" class=\"dataframe\">\n",
       "  <thead>\n",
       "    <tr style=\"text-align: right;\">\n",
       "      <th></th>\n",
       "      <th>loan_amount</th>\n",
       "      <th>rate_of_interest</th>\n",
       "      <th>term</th>\n",
       "      <th>property_value</th>\n",
       "      <th>income</th>\n",
       "      <th>credit_score</th>\n",
       "      <th>status</th>\n",
       "      <th>dtir1</th>\n",
       "      <th>loan_type_type2</th>\n",
       "      <th>loan_type_type3</th>\n",
       "      <th>age_35-44</th>\n",
       "      <th>age_45-54</th>\n",
       "      <th>age_55-64</th>\n",
       "      <th>age_65-74</th>\n",
       "      <th>age_&lt;25</th>\n",
       "      <th>age_&gt;74</th>\n",
       "    </tr>\n",
       "  </thead>\n",
       "  <tbody>\n",
       "    <tr>\n",
       "      <th>0</th>\n",
       "      <td>116500</td>\n",
       "      <td>4.045482</td>\n",
       "      <td>360.0</td>\n",
       "      <td>118000.000000</td>\n",
       "      <td>6957.392164</td>\n",
       "      <td>758</td>\n",
       "      <td>1</td>\n",
       "      <td>45.000000</td>\n",
       "      <td>False</td>\n",
       "      <td>False</td>\n",
       "      <td>False</td>\n",
       "      <td>False</td>\n",
       "      <td>False</td>\n",
       "      <td>False</td>\n",
       "      <td>False</td>\n",
       "      <td>False</td>\n",
       "    </tr>\n",
       "    <tr>\n",
       "      <th>1</th>\n",
       "      <td>206500</td>\n",
       "      <td>4.045482</td>\n",
       "      <td>360.0</td>\n",
       "      <td>497900.200647</td>\n",
       "      <td>6957.392164</td>\n",
       "      <td>552</td>\n",
       "      <td>1</td>\n",
       "      <td>37.732932</td>\n",
       "      <td>True</td>\n",
       "      <td>False</td>\n",
       "      <td>False</td>\n",
       "      <td>False</td>\n",
       "      <td>True</td>\n",
       "      <td>False</td>\n",
       "      <td>False</td>\n",
       "      <td>False</td>\n",
       "    </tr>\n",
       "    <tr>\n",
       "      <th>2</th>\n",
       "      <td>406500</td>\n",
       "      <td>4.560000</td>\n",
       "      <td>360.0</td>\n",
       "      <td>508000.000000</td>\n",
       "      <td>6957.392164</td>\n",
       "      <td>834</td>\n",
       "      <td>0</td>\n",
       "      <td>46.000000</td>\n",
       "      <td>False</td>\n",
       "      <td>False</td>\n",
       "      <td>True</td>\n",
       "      <td>False</td>\n",
       "      <td>False</td>\n",
       "      <td>False</td>\n",
       "      <td>False</td>\n",
       "      <td>False</td>\n",
       "    </tr>\n",
       "    <tr>\n",
       "      <th>3</th>\n",
       "      <td>456500</td>\n",
       "      <td>4.250000</td>\n",
       "      <td>360.0</td>\n",
       "      <td>658000.000000</td>\n",
       "      <td>6957.392164</td>\n",
       "      <td>587</td>\n",
       "      <td>0</td>\n",
       "      <td>42.000000</td>\n",
       "      <td>False</td>\n",
       "      <td>False</td>\n",
       "      <td>False</td>\n",
       "      <td>True</td>\n",
       "      <td>False</td>\n",
       "      <td>False</td>\n",
       "      <td>False</td>\n",
       "      <td>False</td>\n",
       "    </tr>\n",
       "    <tr>\n",
       "      <th>4</th>\n",
       "      <td>696500</td>\n",
       "      <td>4.045482</td>\n",
       "      <td>360.0</td>\n",
       "      <td>758000.000000</td>\n",
       "      <td>6957.392164</td>\n",
       "      <td>602</td>\n",
       "      <td>0</td>\n",
       "      <td>39.000000</td>\n",
       "      <td>False</td>\n",
       "      <td>False</td>\n",
       "      <td>False</td>\n",
       "      <td>False</td>\n",
       "      <td>False</td>\n",
       "      <td>False</td>\n",
       "      <td>False</td>\n",
       "      <td>False</td>\n",
       "    </tr>\n",
       "  </tbody>\n",
       "</table>\n",
       "</div>"
      ],
      "text/plain": [
       "   loan_amount  rate_of_interest   term  property_value       income  \\\n",
       "0       116500          4.045482  360.0   118000.000000  6957.392164   \n",
       "1       206500          4.045482  360.0   497900.200647  6957.392164   \n",
       "2       406500          4.560000  360.0   508000.000000  6957.392164   \n",
       "3       456500          4.250000  360.0   658000.000000  6957.392164   \n",
       "4       696500          4.045482  360.0   758000.000000  6957.392164   \n",
       "\n",
       "   credit_score  status      dtir1  loan_type_type2  loan_type_type3  \\\n",
       "0           758       1  45.000000            False            False   \n",
       "1           552       1  37.732932             True            False   \n",
       "2           834       0  46.000000            False            False   \n",
       "3           587       0  42.000000            False            False   \n",
       "4           602       0  39.000000            False            False   \n",
       "\n",
       "   age_35-44  age_45-54  age_55-64  age_65-74  age_<25  age_>74  \n",
       "0      False      False      False      False    False    False  \n",
       "1      False      False       True      False    False    False  \n",
       "2       True      False      False      False    False    False  \n",
       "3      False       True      False      False    False    False  \n",
       "4      False      False      False      False    False    False  "
      ]
     },
     "execution_count": 74,
     "metadata": {},
     "output_type": "execute_result"
    }
   ],
   "source": [
    "pd.set_option(\"display.max_columns\", df.shape[-1]) \n",
    "df.head()"
   ]
  },
  {
   "cell_type": "code",
   "execution_count": null,
   "id": "3968575a",
   "metadata": {},
   "outputs": [
    {
     "data": {
      "text/plain": [
       "(148664, 16)"
      ]
     },
     "execution_count": 75,
     "metadata": {},
     "output_type": "execute_result"
    }
   ],
   "source": [
    "df.shape"
   ]
  },
  {
   "cell_type": "markdown",
   "id": "e017b5fc",
   "metadata": {},
   "source": [
    "## Data Split to Train and Test Sets"
   ]
  },
  {
   "cell_type": "code",
   "execution_count": null,
   "id": "dbb3c9f1",
   "metadata": {},
   "outputs": [],
   "source": [
    "x = df.drop('status', axis=1)\n",
    "y = df['status']"
   ]
  },
  {
   "cell_type": "code",
   "execution_count": null,
   "id": "8652bd46",
   "metadata": {},
   "outputs": [
    {
     "data": {
      "text/html": [
       "<div>\n",
       "<style scoped>\n",
       "    .dataframe tbody tr th:only-of-type {\n",
       "        vertical-align: middle;\n",
       "    }\n",
       "\n",
       "    .dataframe tbody tr th {\n",
       "        vertical-align: top;\n",
       "    }\n",
       "\n",
       "    .dataframe thead th {\n",
       "        text-align: right;\n",
       "    }\n",
       "</style>\n",
       "<table border=\"1\" class=\"dataframe\">\n",
       "  <thead>\n",
       "    <tr style=\"text-align: right;\">\n",
       "      <th></th>\n",
       "      <th>loan_amount</th>\n",
       "      <th>rate_of_interest</th>\n",
       "      <th>term</th>\n",
       "      <th>property_value</th>\n",
       "      <th>income</th>\n",
       "      <th>credit_score</th>\n",
       "      <th>dtir1</th>\n",
       "      <th>loan_type_type2</th>\n",
       "      <th>loan_type_type3</th>\n",
       "      <th>age_35-44</th>\n",
       "      <th>age_45-54</th>\n",
       "      <th>age_55-64</th>\n",
       "      <th>age_65-74</th>\n",
       "      <th>age_&lt;25</th>\n",
       "      <th>age_&gt;74</th>\n",
       "    </tr>\n",
       "  </thead>\n",
       "  <tbody>\n",
       "    <tr>\n",
       "      <th>0</th>\n",
       "      <td>116500</td>\n",
       "      <td>4.045482</td>\n",
       "      <td>360.0</td>\n",
       "      <td>118000.000000</td>\n",
       "      <td>6957.392164</td>\n",
       "      <td>758</td>\n",
       "      <td>45.000000</td>\n",
       "      <td>False</td>\n",
       "      <td>False</td>\n",
       "      <td>False</td>\n",
       "      <td>False</td>\n",
       "      <td>False</td>\n",
       "      <td>False</td>\n",
       "      <td>False</td>\n",
       "      <td>False</td>\n",
       "    </tr>\n",
       "    <tr>\n",
       "      <th>1</th>\n",
       "      <td>206500</td>\n",
       "      <td>4.045482</td>\n",
       "      <td>360.0</td>\n",
       "      <td>497900.200647</td>\n",
       "      <td>6957.392164</td>\n",
       "      <td>552</td>\n",
       "      <td>37.732932</td>\n",
       "      <td>True</td>\n",
       "      <td>False</td>\n",
       "      <td>False</td>\n",
       "      <td>False</td>\n",
       "      <td>True</td>\n",
       "      <td>False</td>\n",
       "      <td>False</td>\n",
       "      <td>False</td>\n",
       "    </tr>\n",
       "    <tr>\n",
       "      <th>2</th>\n",
       "      <td>406500</td>\n",
       "      <td>4.560000</td>\n",
       "      <td>360.0</td>\n",
       "      <td>508000.000000</td>\n",
       "      <td>6957.392164</td>\n",
       "      <td>834</td>\n",
       "      <td>46.000000</td>\n",
       "      <td>False</td>\n",
       "      <td>False</td>\n",
       "      <td>True</td>\n",
       "      <td>False</td>\n",
       "      <td>False</td>\n",
       "      <td>False</td>\n",
       "      <td>False</td>\n",
       "      <td>False</td>\n",
       "    </tr>\n",
       "    <tr>\n",
       "      <th>3</th>\n",
       "      <td>456500</td>\n",
       "      <td>4.250000</td>\n",
       "      <td>360.0</td>\n",
       "      <td>658000.000000</td>\n",
       "      <td>6957.392164</td>\n",
       "      <td>587</td>\n",
       "      <td>42.000000</td>\n",
       "      <td>False</td>\n",
       "      <td>False</td>\n",
       "      <td>False</td>\n",
       "      <td>True</td>\n",
       "      <td>False</td>\n",
       "      <td>False</td>\n",
       "      <td>False</td>\n",
       "      <td>False</td>\n",
       "    </tr>\n",
       "    <tr>\n",
       "      <th>4</th>\n",
       "      <td>696500</td>\n",
       "      <td>4.045482</td>\n",
       "      <td>360.0</td>\n",
       "      <td>758000.000000</td>\n",
       "      <td>6957.392164</td>\n",
       "      <td>602</td>\n",
       "      <td>39.000000</td>\n",
       "      <td>False</td>\n",
       "      <td>False</td>\n",
       "      <td>False</td>\n",
       "      <td>False</td>\n",
       "      <td>False</td>\n",
       "      <td>False</td>\n",
       "      <td>False</td>\n",
       "      <td>False</td>\n",
       "    </tr>\n",
       "    <tr>\n",
       "      <th>...</th>\n",
       "      <td>...</td>\n",
       "      <td>...</td>\n",
       "      <td>...</td>\n",
       "      <td>...</td>\n",
       "      <td>...</td>\n",
       "      <td>...</td>\n",
       "      <td>...</td>\n",
       "      <td>...</td>\n",
       "      <td>...</td>\n",
       "      <td>...</td>\n",
       "      <td>...</td>\n",
       "      <td>...</td>\n",
       "      <td>...</td>\n",
       "      <td>...</td>\n",
       "      <td>...</td>\n",
       "    </tr>\n",
       "    <tr>\n",
       "      <th>148665</th>\n",
       "      <td>436500</td>\n",
       "      <td>3.125000</td>\n",
       "      <td>180.0</td>\n",
       "      <td>608000.000000</td>\n",
       "      <td>6957.392164</td>\n",
       "      <td>659</td>\n",
       "      <td>48.000000</td>\n",
       "      <td>False</td>\n",
       "      <td>False</td>\n",
       "      <td>False</td>\n",
       "      <td>False</td>\n",
       "      <td>True</td>\n",
       "      <td>False</td>\n",
       "      <td>False</td>\n",
       "      <td>False</td>\n",
       "    </tr>\n",
       "    <tr>\n",
       "      <th>148666</th>\n",
       "      <td>586500</td>\n",
       "      <td>5.190000</td>\n",
       "      <td>360.0</td>\n",
       "      <td>788000.000000</td>\n",
       "      <td>6957.392164</td>\n",
       "      <td>569</td>\n",
       "      <td>15.000000</td>\n",
       "      <td>False</td>\n",
       "      <td>False</td>\n",
       "      <td>False</td>\n",
       "      <td>False</td>\n",
       "      <td>False</td>\n",
       "      <td>False</td>\n",
       "      <td>False</td>\n",
       "      <td>False</td>\n",
       "    </tr>\n",
       "    <tr>\n",
       "      <th>148667</th>\n",
       "      <td>446500</td>\n",
       "      <td>3.125000</td>\n",
       "      <td>180.0</td>\n",
       "      <td>728000.000000</td>\n",
       "      <td>6957.392164</td>\n",
       "      <td>702</td>\n",
       "      <td>49.000000</td>\n",
       "      <td>False</td>\n",
       "      <td>False</td>\n",
       "      <td>False</td>\n",
       "      <td>True</td>\n",
       "      <td>False</td>\n",
       "      <td>False</td>\n",
       "      <td>False</td>\n",
       "      <td>False</td>\n",
       "    </tr>\n",
       "    <tr>\n",
       "      <th>148668</th>\n",
       "      <td>196500</td>\n",
       "      <td>3.500000</td>\n",
       "      <td>180.0</td>\n",
       "      <td>278000.000000</td>\n",
       "      <td>6957.392164</td>\n",
       "      <td>737</td>\n",
       "      <td>29.000000</td>\n",
       "      <td>False</td>\n",
       "      <td>False</td>\n",
       "      <td>False</td>\n",
       "      <td>False</td>\n",
       "      <td>True</td>\n",
       "      <td>False</td>\n",
       "      <td>False</td>\n",
       "      <td>False</td>\n",
       "    </tr>\n",
       "    <tr>\n",
       "      <th>148669</th>\n",
       "      <td>406500</td>\n",
       "      <td>4.375000</td>\n",
       "      <td>240.0</td>\n",
       "      <td>558000.000000</td>\n",
       "      <td>6957.392164</td>\n",
       "      <td>830</td>\n",
       "      <td>44.000000</td>\n",
       "      <td>False</td>\n",
       "      <td>False</td>\n",
       "      <td>False</td>\n",
       "      <td>True</td>\n",
       "      <td>False</td>\n",
       "      <td>False</td>\n",
       "      <td>False</td>\n",
       "      <td>False</td>\n",
       "    </tr>\n",
       "  </tbody>\n",
       "</table>\n",
       "<p>148664 rows × 15 columns</p>\n",
       "</div>"
      ],
      "text/plain": [
       "        loan_amount  rate_of_interest   term  property_value       income  \\\n",
       "0            116500          4.045482  360.0   118000.000000  6957.392164   \n",
       "1            206500          4.045482  360.0   497900.200647  6957.392164   \n",
       "2            406500          4.560000  360.0   508000.000000  6957.392164   \n",
       "3            456500          4.250000  360.0   658000.000000  6957.392164   \n",
       "4            696500          4.045482  360.0   758000.000000  6957.392164   \n",
       "...             ...               ...    ...             ...          ...   \n",
       "148665       436500          3.125000  180.0   608000.000000  6957.392164   \n",
       "148666       586500          5.190000  360.0   788000.000000  6957.392164   \n",
       "148667       446500          3.125000  180.0   728000.000000  6957.392164   \n",
       "148668       196500          3.500000  180.0   278000.000000  6957.392164   \n",
       "148669       406500          4.375000  240.0   558000.000000  6957.392164   \n",
       "\n",
       "        credit_score      dtir1  loan_type_type2  loan_type_type3  age_35-44  \\\n",
       "0                758  45.000000            False            False      False   \n",
       "1                552  37.732932             True            False      False   \n",
       "2                834  46.000000            False            False       True   \n",
       "3                587  42.000000            False            False      False   \n",
       "4                602  39.000000            False            False      False   \n",
       "...              ...        ...              ...              ...        ...   \n",
       "148665           659  48.000000            False            False      False   \n",
       "148666           569  15.000000            False            False      False   \n",
       "148667           702  49.000000            False            False      False   \n",
       "148668           737  29.000000            False            False      False   \n",
       "148669           830  44.000000            False            False      False   \n",
       "\n",
       "        age_45-54  age_55-64  age_65-74  age_<25  age_>74  \n",
       "0           False      False      False    False    False  \n",
       "1           False       True      False    False    False  \n",
       "2           False      False      False    False    False  \n",
       "3            True      False      False    False    False  \n",
       "4           False      False      False    False    False  \n",
       "...           ...        ...        ...      ...      ...  \n",
       "148665      False       True      False    False    False  \n",
       "148666      False      False      False    False    False  \n",
       "148667       True      False      False    False    False  \n",
       "148668      False       True      False    False    False  \n",
       "148669       True      False      False    False    False  \n",
       "\n",
       "[148664 rows x 15 columns]"
      ]
     },
     "execution_count": 77,
     "metadata": {},
     "output_type": "execute_result"
    }
   ],
   "source": [
    "x"
   ]
  },
  {
   "cell_type": "code",
   "execution_count": null,
   "id": "95c4d2dc",
   "metadata": {},
   "outputs": [
    {
     "data": {
      "text/plain": [
       "0         1\n",
       "1         1\n",
       "2         0\n",
       "3         0\n",
       "4         0\n",
       "         ..\n",
       "148665    0\n",
       "148666    0\n",
       "148667    0\n",
       "148668    0\n",
       "148669    0\n",
       "Name: status, Length: 148664, dtype: int64"
      ]
     },
     "execution_count": 78,
     "metadata": {},
     "output_type": "execute_result"
    }
   ],
   "source": [
    "y"
   ]
  },
  {
   "cell_type": "code",
   "execution_count": null,
   "id": "6ca4f3b0",
   "metadata": {},
   "outputs": [
    {
     "data": {
      "text/plain": [
       "(148664, 15)"
      ]
     },
     "execution_count": 79,
     "metadata": {},
     "output_type": "execute_result"
    }
   ],
   "source": [
    "x.shape"
   ]
  },
  {
   "cell_type": "code",
   "execution_count": null,
   "id": "44b9c7e3",
   "metadata": {},
   "outputs": [
    {
     "data": {
      "text/plain": [
       "(148664,)"
      ]
     },
     "execution_count": 80,
     "metadata": {},
     "output_type": "execute_result"
    }
   ],
   "source": [
    "y.shape"
   ]
  },
  {
   "cell_type": "code",
   "execution_count": null,
   "id": "11516660",
   "metadata": {},
   "outputs": [],
   "source": [
    "x_train, x_test, y_train, y_test = train_test_split(x, y, test_size=.3)"
   ]
  },
  {
   "cell_type": "code",
   "execution_count": null,
   "id": "5b808e5c",
   "metadata": {},
   "outputs": [
    {
     "data": {
      "text/html": [
       "<div>\n",
       "<style scoped>\n",
       "    .dataframe tbody tr th:only-of-type {\n",
       "        vertical-align: middle;\n",
       "    }\n",
       "\n",
       "    .dataframe tbody tr th {\n",
       "        vertical-align: top;\n",
       "    }\n",
       "\n",
       "    .dataframe thead th {\n",
       "        text-align: right;\n",
       "    }\n",
       "</style>\n",
       "<table border=\"1\" class=\"dataframe\">\n",
       "  <thead>\n",
       "    <tr style=\"text-align: right;\">\n",
       "      <th></th>\n",
       "      <th>loan_amount</th>\n",
       "      <th>rate_of_interest</th>\n",
       "      <th>term</th>\n",
       "      <th>property_value</th>\n",
       "      <th>income</th>\n",
       "      <th>credit_score</th>\n",
       "      <th>dtir1</th>\n",
       "      <th>loan_type_type2</th>\n",
       "      <th>loan_type_type3</th>\n",
       "      <th>age_35-44</th>\n",
       "      <th>age_45-54</th>\n",
       "      <th>age_55-64</th>\n",
       "      <th>age_65-74</th>\n",
       "      <th>age_&lt;25</th>\n",
       "      <th>age_&gt;74</th>\n",
       "    </tr>\n",
       "  </thead>\n",
       "  <tbody>\n",
       "    <tr>\n",
       "      <th>68035</th>\n",
       "      <td>266500</td>\n",
       "      <td>4.990000</td>\n",
       "      <td>360.0</td>\n",
       "      <td>288000.000000</td>\n",
       "      <td>6957.392164</td>\n",
       "      <td>745</td>\n",
       "      <td>41.000000</td>\n",
       "      <td>False</td>\n",
       "      <td>False</td>\n",
       "      <td>False</td>\n",
       "      <td>False</td>\n",
       "      <td>False</td>\n",
       "      <td>False</td>\n",
       "      <td>False</td>\n",
       "      <td>False</td>\n",
       "    </tr>\n",
       "    <tr>\n",
       "      <th>71352</th>\n",
       "      <td>106500</td>\n",
       "      <td>4.045482</td>\n",
       "      <td>180.0</td>\n",
       "      <td>497900.200647</td>\n",
       "      <td>6957.392164</td>\n",
       "      <td>568</td>\n",
       "      <td>37.732932</td>\n",
       "      <td>False</td>\n",
       "      <td>False</td>\n",
       "      <td>False</td>\n",
       "      <td>False</td>\n",
       "      <td>False</td>\n",
       "      <td>True</td>\n",
       "      <td>False</td>\n",
       "      <td>False</td>\n",
       "    </tr>\n",
       "    <tr>\n",
       "      <th>78310</th>\n",
       "      <td>376500</td>\n",
       "      <td>3.750000</td>\n",
       "      <td>360.0</td>\n",
       "      <td>538000.000000</td>\n",
       "      <td>6957.392164</td>\n",
       "      <td>691</td>\n",
       "      <td>43.000000</td>\n",
       "      <td>False</td>\n",
       "      <td>False</td>\n",
       "      <td>True</td>\n",
       "      <td>False</td>\n",
       "      <td>False</td>\n",
       "      <td>False</td>\n",
       "      <td>False</td>\n",
       "      <td>False</td>\n",
       "    </tr>\n",
       "    <tr>\n",
       "      <th>117395</th>\n",
       "      <td>396500</td>\n",
       "      <td>4.990000</td>\n",
       "      <td>360.0</td>\n",
       "      <td>548000.000000</td>\n",
       "      <td>6957.392164</td>\n",
       "      <td>845</td>\n",
       "      <td>61.000000</td>\n",
       "      <td>True</td>\n",
       "      <td>False</td>\n",
       "      <td>False</td>\n",
       "      <td>False</td>\n",
       "      <td>True</td>\n",
       "      <td>False</td>\n",
       "      <td>False</td>\n",
       "      <td>False</td>\n",
       "    </tr>\n",
       "    <tr>\n",
       "      <th>50477</th>\n",
       "      <td>426500</td>\n",
       "      <td>4.045482</td>\n",
       "      <td>360.0</td>\n",
       "      <td>578000.000000</td>\n",
       "      <td>6957.392164</td>\n",
       "      <td>750</td>\n",
       "      <td>49.000000</td>\n",
       "      <td>False</td>\n",
       "      <td>False</td>\n",
       "      <td>True</td>\n",
       "      <td>False</td>\n",
       "      <td>False</td>\n",
       "      <td>False</td>\n",
       "      <td>False</td>\n",
       "      <td>False</td>\n",
       "    </tr>\n",
       "    <tr>\n",
       "      <th>...</th>\n",
       "      <td>...</td>\n",
       "      <td>...</td>\n",
       "      <td>...</td>\n",
       "      <td>...</td>\n",
       "      <td>...</td>\n",
       "      <td>...</td>\n",
       "      <td>...</td>\n",
       "      <td>...</td>\n",
       "      <td>...</td>\n",
       "      <td>...</td>\n",
       "      <td>...</td>\n",
       "      <td>...</td>\n",
       "      <td>...</td>\n",
       "      <td>...</td>\n",
       "      <td>...</td>\n",
       "    </tr>\n",
       "    <tr>\n",
       "      <th>3852</th>\n",
       "      <td>256500</td>\n",
       "      <td>5.375000</td>\n",
       "      <td>360.0</td>\n",
       "      <td>798000.000000</td>\n",
       "      <td>6957.392164</td>\n",
       "      <td>732</td>\n",
       "      <td>36.000000</td>\n",
       "      <td>False</td>\n",
       "      <td>False</td>\n",
       "      <td>False</td>\n",
       "      <td>False</td>\n",
       "      <td>False</td>\n",
       "      <td>True</td>\n",
       "      <td>False</td>\n",
       "      <td>False</td>\n",
       "    </tr>\n",
       "    <tr>\n",
       "      <th>98715</th>\n",
       "      <td>476500</td>\n",
       "      <td>4.045482</td>\n",
       "      <td>360.0</td>\n",
       "      <td>497900.200647</td>\n",
       "      <td>6957.392164</td>\n",
       "      <td>897</td>\n",
       "      <td>37.732932</td>\n",
       "      <td>False</td>\n",
       "      <td>False</td>\n",
       "      <td>True</td>\n",
       "      <td>False</td>\n",
       "      <td>False</td>\n",
       "      <td>False</td>\n",
       "      <td>False</td>\n",
       "      <td>False</td>\n",
       "    </tr>\n",
       "    <tr>\n",
       "      <th>128674</th>\n",
       "      <td>346500</td>\n",
       "      <td>2.875000</td>\n",
       "      <td>360.0</td>\n",
       "      <td>678000.000000</td>\n",
       "      <td>6957.392164</td>\n",
       "      <td>576</td>\n",
       "      <td>48.000000</td>\n",
       "      <td>False</td>\n",
       "      <td>False</td>\n",
       "      <td>False</td>\n",
       "      <td>False</td>\n",
       "      <td>False</td>\n",
       "      <td>True</td>\n",
       "      <td>False</td>\n",
       "      <td>False</td>\n",
       "    </tr>\n",
       "    <tr>\n",
       "      <th>41318</th>\n",
       "      <td>156500</td>\n",
       "      <td>4.250000</td>\n",
       "      <td>360.0</td>\n",
       "      <td>278000.000000</td>\n",
       "      <td>6957.392164</td>\n",
       "      <td>624</td>\n",
       "      <td>23.000000</td>\n",
       "      <td>False</td>\n",
       "      <td>False</td>\n",
       "      <td>False</td>\n",
       "      <td>False</td>\n",
       "      <td>True</td>\n",
       "      <td>False</td>\n",
       "      <td>False</td>\n",
       "      <td>False</td>\n",
       "    </tr>\n",
       "    <tr>\n",
       "      <th>11503</th>\n",
       "      <td>376500</td>\n",
       "      <td>5.125000</td>\n",
       "      <td>360.0</td>\n",
       "      <td>508000.000000</td>\n",
       "      <td>6957.392164</td>\n",
       "      <td>717</td>\n",
       "      <td>36.000000</td>\n",
       "      <td>False</td>\n",
       "      <td>False</td>\n",
       "      <td>False</td>\n",
       "      <td>True</td>\n",
       "      <td>False</td>\n",
       "      <td>False</td>\n",
       "      <td>False</td>\n",
       "      <td>False</td>\n",
       "    </tr>\n",
       "  </tbody>\n",
       "</table>\n",
       "<p>104064 rows × 15 columns</p>\n",
       "</div>"
      ],
      "text/plain": [
       "        loan_amount  rate_of_interest   term  property_value       income  \\\n",
       "68035        266500          4.990000  360.0   288000.000000  6957.392164   \n",
       "71352        106500          4.045482  180.0   497900.200647  6957.392164   \n",
       "78310        376500          3.750000  360.0   538000.000000  6957.392164   \n",
       "117395       396500          4.990000  360.0   548000.000000  6957.392164   \n",
       "50477        426500          4.045482  360.0   578000.000000  6957.392164   \n",
       "...             ...               ...    ...             ...          ...   \n",
       "3852         256500          5.375000  360.0   798000.000000  6957.392164   \n",
       "98715        476500          4.045482  360.0   497900.200647  6957.392164   \n",
       "128674       346500          2.875000  360.0   678000.000000  6957.392164   \n",
       "41318        156500          4.250000  360.0   278000.000000  6957.392164   \n",
       "11503        376500          5.125000  360.0   508000.000000  6957.392164   \n",
       "\n",
       "        credit_score      dtir1  loan_type_type2  loan_type_type3  age_35-44  \\\n",
       "68035            745  41.000000            False            False      False   \n",
       "71352            568  37.732932            False            False      False   \n",
       "78310            691  43.000000            False            False       True   \n",
       "117395           845  61.000000             True            False      False   \n",
       "50477            750  49.000000            False            False       True   \n",
       "...              ...        ...              ...              ...        ...   \n",
       "3852             732  36.000000            False            False      False   \n",
       "98715            897  37.732932            False            False       True   \n",
       "128674           576  48.000000            False            False      False   \n",
       "41318            624  23.000000            False            False      False   \n",
       "11503            717  36.000000            False            False      False   \n",
       "\n",
       "        age_45-54  age_55-64  age_65-74  age_<25  age_>74  \n",
       "68035       False      False      False    False    False  \n",
       "71352       False      False       True    False    False  \n",
       "78310       False      False      False    False    False  \n",
       "117395      False       True      False    False    False  \n",
       "50477       False      False      False    False    False  \n",
       "...           ...        ...        ...      ...      ...  \n",
       "3852        False      False       True    False    False  \n",
       "98715       False      False      False    False    False  \n",
       "128674      False      False       True    False    False  \n",
       "41318       False       True      False    False    False  \n",
       "11503        True      False      False    False    False  \n",
       "\n",
       "[104064 rows x 15 columns]"
      ]
     },
     "execution_count": 82,
     "metadata": {},
     "output_type": "execute_result"
    }
   ],
   "source": [
    "x_train"
   ]
  },
  {
   "cell_type": "code",
   "execution_count": null,
   "id": "89d35097",
   "metadata": {},
   "outputs": [
    {
     "data": {
      "text/html": [
       "<div>\n",
       "<style scoped>\n",
       "    .dataframe tbody tr th:only-of-type {\n",
       "        vertical-align: middle;\n",
       "    }\n",
       "\n",
       "    .dataframe tbody tr th {\n",
       "        vertical-align: top;\n",
       "    }\n",
       "\n",
       "    .dataframe thead th {\n",
       "        text-align: right;\n",
       "    }\n",
       "</style>\n",
       "<table border=\"1\" class=\"dataframe\">\n",
       "  <thead>\n",
       "    <tr style=\"text-align: right;\">\n",
       "      <th></th>\n",
       "      <th>loan_amount</th>\n",
       "      <th>rate_of_interest</th>\n",
       "      <th>term</th>\n",
       "      <th>property_value</th>\n",
       "      <th>income</th>\n",
       "      <th>credit_score</th>\n",
       "      <th>dtir1</th>\n",
       "      <th>loan_type_type2</th>\n",
       "      <th>loan_type_type3</th>\n",
       "      <th>age_35-44</th>\n",
       "      <th>age_45-54</th>\n",
       "      <th>age_55-64</th>\n",
       "      <th>age_65-74</th>\n",
       "      <th>age_&lt;25</th>\n",
       "      <th>age_&gt;74</th>\n",
       "    </tr>\n",
       "  </thead>\n",
       "  <tbody>\n",
       "    <tr>\n",
       "      <th>106560</th>\n",
       "      <td>486500</td>\n",
       "      <td>2.990000</td>\n",
       "      <td>300.0</td>\n",
       "      <td>758000.0</td>\n",
       "      <td>6957.392164</td>\n",
       "      <td>641</td>\n",
       "      <td>39.000000</td>\n",
       "      <td>False</td>\n",
       "      <td>True</td>\n",
       "      <td>False</td>\n",
       "      <td>True</td>\n",
       "      <td>False</td>\n",
       "      <td>False</td>\n",
       "      <td>False</td>\n",
       "      <td>False</td>\n",
       "    </tr>\n",
       "    <tr>\n",
       "      <th>41003</th>\n",
       "      <td>356500</td>\n",
       "      <td>3.625000</td>\n",
       "      <td>360.0</td>\n",
       "      <td>408000.0</td>\n",
       "      <td>6957.392164</td>\n",
       "      <td>847</td>\n",
       "      <td>27.000000</td>\n",
       "      <td>False</td>\n",
       "      <td>False</td>\n",
       "      <td>True</td>\n",
       "      <td>False</td>\n",
       "      <td>False</td>\n",
       "      <td>False</td>\n",
       "      <td>False</td>\n",
       "      <td>False</td>\n",
       "    </tr>\n",
       "    <tr>\n",
       "      <th>139636</th>\n",
       "      <td>346500</td>\n",
       "      <td>4.375000</td>\n",
       "      <td>360.0</td>\n",
       "      <td>438000.0</td>\n",
       "      <td>6957.392164</td>\n",
       "      <td>796</td>\n",
       "      <td>14.000000</td>\n",
       "      <td>False</td>\n",
       "      <td>False</td>\n",
       "      <td>True</td>\n",
       "      <td>False</td>\n",
       "      <td>False</td>\n",
       "      <td>False</td>\n",
       "      <td>False</td>\n",
       "      <td>False</td>\n",
       "    </tr>\n",
       "    <tr>\n",
       "      <th>3312</th>\n",
       "      <td>126500</td>\n",
       "      <td>4.045482</td>\n",
       "      <td>360.0</td>\n",
       "      <td>148000.0</td>\n",
       "      <td>6957.392164</td>\n",
       "      <td>561</td>\n",
       "      <td>35.000000</td>\n",
       "      <td>True</td>\n",
       "      <td>False</td>\n",
       "      <td>False</td>\n",
       "      <td>True</td>\n",
       "      <td>False</td>\n",
       "      <td>False</td>\n",
       "      <td>False</td>\n",
       "      <td>False</td>\n",
       "    </tr>\n",
       "    <tr>\n",
       "      <th>27975</th>\n",
       "      <td>416500</td>\n",
       "      <td>3.375000</td>\n",
       "      <td>300.0</td>\n",
       "      <td>838000.0</td>\n",
       "      <td>6957.392164</td>\n",
       "      <td>505</td>\n",
       "      <td>46.000000</td>\n",
       "      <td>False</td>\n",
       "      <td>False</td>\n",
       "      <td>False</td>\n",
       "      <td>True</td>\n",
       "      <td>False</td>\n",
       "      <td>False</td>\n",
       "      <td>False</td>\n",
       "      <td>False</td>\n",
       "    </tr>\n",
       "    <tr>\n",
       "      <th>...</th>\n",
       "      <td>...</td>\n",
       "      <td>...</td>\n",
       "      <td>...</td>\n",
       "      <td>...</td>\n",
       "      <td>...</td>\n",
       "      <td>...</td>\n",
       "      <td>...</td>\n",
       "      <td>...</td>\n",
       "      <td>...</td>\n",
       "      <td>...</td>\n",
       "      <td>...</td>\n",
       "      <td>...</td>\n",
       "      <td>...</td>\n",
       "      <td>...</td>\n",
       "      <td>...</td>\n",
       "    </tr>\n",
       "    <tr>\n",
       "      <th>8397</th>\n",
       "      <td>226500</td>\n",
       "      <td>3.625000</td>\n",
       "      <td>360.0</td>\n",
       "      <td>468000.0</td>\n",
       "      <td>6957.392164</td>\n",
       "      <td>639</td>\n",
       "      <td>12.000000</td>\n",
       "      <td>False</td>\n",
       "      <td>False</td>\n",
       "      <td>False</td>\n",
       "      <td>True</td>\n",
       "      <td>False</td>\n",
       "      <td>False</td>\n",
       "      <td>False</td>\n",
       "      <td>False</td>\n",
       "    </tr>\n",
       "    <tr>\n",
       "      <th>114232</th>\n",
       "      <td>366500</td>\n",
       "      <td>4.045482</td>\n",
       "      <td>180.0</td>\n",
       "      <td>908000.0</td>\n",
       "      <td>6957.392164</td>\n",
       "      <td>513</td>\n",
       "      <td>33.000000</td>\n",
       "      <td>False</td>\n",
       "      <td>False</td>\n",
       "      <td>True</td>\n",
       "      <td>False</td>\n",
       "      <td>False</td>\n",
       "      <td>False</td>\n",
       "      <td>False</td>\n",
       "      <td>False</td>\n",
       "    </tr>\n",
       "    <tr>\n",
       "      <th>51380</th>\n",
       "      <td>356500</td>\n",
       "      <td>3.990000</td>\n",
       "      <td>360.0</td>\n",
       "      <td>458000.0</td>\n",
       "      <td>6957.392164</td>\n",
       "      <td>594</td>\n",
       "      <td>43.000000</td>\n",
       "      <td>False</td>\n",
       "      <td>False</td>\n",
       "      <td>False</td>\n",
       "      <td>True</td>\n",
       "      <td>False</td>\n",
       "      <td>False</td>\n",
       "      <td>False</td>\n",
       "      <td>False</td>\n",
       "    </tr>\n",
       "    <tr>\n",
       "      <th>142393</th>\n",
       "      <td>86500</td>\n",
       "      <td>3.875000</td>\n",
       "      <td>180.0</td>\n",
       "      <td>168000.0</td>\n",
       "      <td>6957.392164</td>\n",
       "      <td>797</td>\n",
       "      <td>10.000000</td>\n",
       "      <td>False</td>\n",
       "      <td>False</td>\n",
       "      <td>False</td>\n",
       "      <td>True</td>\n",
       "      <td>False</td>\n",
       "      <td>False</td>\n",
       "      <td>False</td>\n",
       "      <td>False</td>\n",
       "    </tr>\n",
       "    <tr>\n",
       "      <th>53537</th>\n",
       "      <td>136500</td>\n",
       "      <td>3.250000</td>\n",
       "      <td>360.0</td>\n",
       "      <td>288000.0</td>\n",
       "      <td>6957.392164</td>\n",
       "      <td>606</td>\n",
       "      <td>37.732932</td>\n",
       "      <td>False</td>\n",
       "      <td>True</td>\n",
       "      <td>False</td>\n",
       "      <td>False</td>\n",
       "      <td>False</td>\n",
       "      <td>False</td>\n",
       "      <td>False</td>\n",
       "      <td>True</td>\n",
       "    </tr>\n",
       "  </tbody>\n",
       "</table>\n",
       "<p>44600 rows × 15 columns</p>\n",
       "</div>"
      ],
      "text/plain": [
       "        loan_amount  rate_of_interest   term  property_value       income  \\\n",
       "106560       486500          2.990000  300.0        758000.0  6957.392164   \n",
       "41003        356500          3.625000  360.0        408000.0  6957.392164   \n",
       "139636       346500          4.375000  360.0        438000.0  6957.392164   \n",
       "3312         126500          4.045482  360.0        148000.0  6957.392164   \n",
       "27975        416500          3.375000  300.0        838000.0  6957.392164   \n",
       "...             ...               ...    ...             ...          ...   \n",
       "8397         226500          3.625000  360.0        468000.0  6957.392164   \n",
       "114232       366500          4.045482  180.0        908000.0  6957.392164   \n",
       "51380        356500          3.990000  360.0        458000.0  6957.392164   \n",
       "142393        86500          3.875000  180.0        168000.0  6957.392164   \n",
       "53537        136500          3.250000  360.0        288000.0  6957.392164   \n",
       "\n",
       "        credit_score      dtir1  loan_type_type2  loan_type_type3  age_35-44  \\\n",
       "106560           641  39.000000            False             True      False   \n",
       "41003            847  27.000000            False            False       True   \n",
       "139636           796  14.000000            False            False       True   \n",
       "3312             561  35.000000             True            False      False   \n",
       "27975            505  46.000000            False            False      False   \n",
       "...              ...        ...              ...              ...        ...   \n",
       "8397             639  12.000000            False            False      False   \n",
       "114232           513  33.000000            False            False       True   \n",
       "51380            594  43.000000            False            False      False   \n",
       "142393           797  10.000000            False            False      False   \n",
       "53537            606  37.732932            False             True      False   \n",
       "\n",
       "        age_45-54  age_55-64  age_65-74  age_<25  age_>74  \n",
       "106560       True      False      False    False    False  \n",
       "41003       False      False      False    False    False  \n",
       "139636      False      False      False    False    False  \n",
       "3312         True      False      False    False    False  \n",
       "27975        True      False      False    False    False  \n",
       "...           ...        ...        ...      ...      ...  \n",
       "8397         True      False      False    False    False  \n",
       "114232      False      False      False    False    False  \n",
       "51380        True      False      False    False    False  \n",
       "142393       True      False      False    False    False  \n",
       "53537       False      False      False    False     True  \n",
       "\n",
       "[44600 rows x 15 columns]"
      ]
     },
     "execution_count": 83,
     "metadata": {},
     "output_type": "execute_result"
    }
   ],
   "source": [
    "x_test"
   ]
  },
  {
   "cell_type": "code",
   "execution_count": null,
   "id": "926f110c",
   "metadata": {},
   "outputs": [
    {
     "data": {
      "text/plain": [
       "68035     0\n",
       "71352     1\n",
       "78310     0\n",
       "117395    0\n",
       "50477     1\n",
       "         ..\n",
       "3852      0\n",
       "98715     1\n",
       "128674    0\n",
       "41318     0\n",
       "11503     0\n",
       "Name: status, Length: 104064, dtype: int64"
      ]
     },
     "execution_count": 84,
     "metadata": {},
     "output_type": "execute_result"
    }
   ],
   "source": [
    "y_train"
   ]
  },
  {
   "cell_type": "code",
   "execution_count": null,
   "id": "9e72eb25",
   "metadata": {},
   "outputs": [
    {
     "data": {
      "text/plain": [
       "(104064, 15)"
      ]
     },
     "execution_count": 85,
     "metadata": {},
     "output_type": "execute_result"
    }
   ],
   "source": [
    "x_train.shape"
   ]
  },
  {
   "cell_type": "code",
   "execution_count": null,
   "id": "94fe2ddc",
   "metadata": {},
   "outputs": [
    {
     "data": {
      "text/plain": [
       "(104064,)"
      ]
     },
     "execution_count": 86,
     "metadata": {},
     "output_type": "execute_result"
    }
   ],
   "source": [
    "y_train.shape"
   ]
  },
  {
   "cell_type": "code",
   "execution_count": null,
   "id": "b29982e3",
   "metadata": {},
   "outputs": [
    {
     "data": {
      "text/plain": [
       "status\n",
       "0    78338\n",
       "1    25726\n",
       "Name: count, dtype: int64"
      ]
     },
     "execution_count": 87,
     "metadata": {},
     "output_type": "execute_result"
    }
   ],
   "source": [
    "y_train.value_counts()"
   ]
  },
  {
   "cell_type": "code",
   "execution_count": null,
   "id": "db4e0dd6",
   "metadata": {},
   "outputs": [],
   "source": [
    "sm = SMOTE()\n",
    "x_train, y_train = sm.fit_resample(x_train, y_train)"
   ]
  },
  {
   "cell_type": "code",
   "execution_count": null,
   "id": "8c273d75",
   "metadata": {},
   "outputs": [
    {
     "data": {
      "text/plain": [
       "status\n",
       "0    78338\n",
       "1    78338\n",
       "Name: count, dtype: int64"
      ]
     },
     "execution_count": 89,
     "metadata": {},
     "output_type": "execute_result"
    }
   ],
   "source": [
    "y_train.value_counts()"
   ]
  },
  {
   "cell_type": "code",
   "execution_count": null,
   "id": "d925d183",
   "metadata": {},
   "outputs": [
    {
     "name": "stdout",
     "output_type": "stream",
     "text": [
      "Accuracy of DecisionTree:  0.9691031390134529\n",
      "==============================================================================================================\n",
      "Confusion Matrix: \n",
      " [[32980   709]\n",
      " [  669 10242]]\n",
      "==============================================================================================================\n",
      "Classification Report: \n",
      "               precision    recall  f1-score   support\n",
      "\n",
      "           0       0.98      0.98      0.98     33689\n",
      "           1       0.94      0.94      0.94     10911\n",
      "\n",
      "    accuracy                           0.97     44600\n",
      "   macro avg       0.96      0.96      0.96     44600\n",
      "weighted avg       0.97      0.97      0.97     44600\n",
      "\n"
     ]
    }
   ],
   "source": [
    "from sklearn.tree import DecisionTreeClassifier\n",
    "from sklearn.metrics import classification_report\n",
    "from sklearn.metrics import accuracy_score,confusion_matrix,ConfusionMatrixDisplay\n",
    "\n",
    "model=DecisionTreeClassifier()\n",
    "model.fit(x_train,y_train)\n",
    "y_pred=model.predict(x_test)\n",
    "\n",
    "conf = confusion_matrix(y_test,y_pred)\n",
    "acc= accuracy_score(y_test,y_pred)\n",
    "\n",
    "print('Accuracy of DecisionTree: ',acc)\n",
    "print(10*'===========')\n",
    "print('Confusion Matrix: \\n',conf)\n",
    "print(10*'===========')\n",
    "print('Classification Report: \\n',classification_report(y_test,y_pred))"
   ]
  },
  {
   "cell_type": "code",
   "execution_count": null,
   "id": "0f0d3e1f",
   "metadata": {},
   "outputs": [
    {
     "data": {
      "text/plain": [
       "<sklearn.metrics._plot.confusion_matrix.ConfusionMatrixDisplay at 0x24b759ee420>"
      ]
     },
     "execution_count": 91,
     "metadata": {},
     "output_type": "execute_result"
    },
    {
     "data": {
      "image/png": "[encoded data removed]",
      "text/plain": [
       "<Figure size 640x480 with 2 Axes>"
      ]
     },
     "metadata": {},
     "output_type": "display_data"
    }
   ],
   "source": [
    "confdisplay=ConfusionMatrixDisplay(conf)\n",
    "confdisplay.plot()"
   ]
  },
  {
   "cell_type": "code",
   "execution_count": null,
   "id": "e155d318",
   "metadata": {},
   "outputs": [
    {
     "name": "stdout",
     "output_type": "stream",
     "text": [
      "training accuaracy: 1.0\n",
      "testing accuaracy: 0.9691031390134529\n"
     ]
    }
   ],
   "source": [
    "print(f'training accuaracy: {model.score(x_train,y_train)}')\n",
    "print(f'testing accuaracy: {model.score(x_test,y_test)}')"
   ]
  },
  {
   "cell_type": "code",
   "execution_count": null,
   "id": "38543dde",
   "metadata": {},
   "outputs": [
    {
     "name": "stdout",
     "output_type": "stream",
     "text": [
      "Accuracy of RandomForest:  0.9779596412556054\n",
      "==============================================================================================================\n",
      "Confusion Matrix: \n",
      " [[32862   827]\n",
      " [  156 10755]]\n",
      "==============================================================================================================\n",
      "Classification Report: \n",
      "               precision    recall  f1-score   support\n",
      "\n",
      "           0       1.00      0.98      0.99     33689\n",
      "           1       0.93      0.99      0.96     10911\n",
      "\n",
      "    accuracy                           0.98     44600\n",
      "   macro avg       0.96      0.98      0.97     44600\n",
      "weighted avg       0.98      0.98      0.98     44600\n",
      "\n"
     ]
    }
   ],
   "source": [
    "from sklearn.ensemble import RandomForestClassifier\n",
    "from sklearn.metrics import classification_report\n",
    "\n",
    "model=RandomForestClassifier()\n",
    "model.fit(x_train,y_train)\n",
    "y_pred=model.predict(x_test)\n",
    "\n",
    "conf = confusion_matrix(y_test,y_pred)\n",
    "acc= accuracy_score(y_test,y_pred)\n",
    "\n",
    "print('Accuracy of RandomForest: ',acc)\n",
    "print(10*'===========')\n",
    "print('Confusion Matrix: \\n',conf)\n",
    "print(10*'===========')\n",
    "print('Classification Report: \\n',classification_report(y_test,y_pred))"
   ]
  },
  {
   "cell_type": "code",
   "execution_count": null,
   "id": "9578db28",
   "metadata": {},
   "outputs": [
    {
     "data": {
      "text/plain": [
       "<sklearn.metrics._plot.confusion_matrix.ConfusionMatrixDisplay at 0x24b034de210>"
      ]
     },
     "execution_count": 94,
     "metadata": {},
     "output_type": "execute_result"
    },
    {
     "data": {
      "image/png": "[encoded data removed]",
      "text/plain": [
       "<Figure size 640x480 with 2 Axes>"
      ]
     },
     "metadata": {},
     "output_type": "display_data"
    }
   ],
   "source": [
    "# Confusion matrix of RandomForest\n",
    "confdisplay=ConfusionMatrixDisplay(conf)\n",
    "confdisplay.plot()"
   ]
  },
  {
   "cell_type": "code",
   "execution_count": null,
   "id": "3ca7270c",
   "metadata": {},
   "outputs": [
    {
     "name": "stdout",
     "output_type": "stream",
     "text": [
      "training accuaracy: 1.0\n",
      "testing accuaracy: 0.9779596412556054\n"
     ]
    }
   ],
   "source": [
    "print(f'training accuaracy: {model.score(x_train,y_train)}')\n",
    "print(f'testing accuaracy: {model.score(x_test,y_test)}')"
   ]
  },
  {
   "cell_type": "code",
   "execution_count": null,
   "id": "6a828870",
   "metadata": {},
   "outputs": [
    {
     "name": "stdout",
     "output_type": "stream",
     "text": [
      "Accuracy of Logistic Regression:  0.5469730941704036\n",
      "==============================================================================================================\n",
      "Confusion Matrix: \n",
      " [[20762 12927]\n",
      " [ 7278  3633]]\n",
      "==============================================================================================================\n",
      "Classification Report: \n",
      "               precision    recall  f1-score   support\n",
      "\n",
      "           0       0.74      0.62      0.67     33689\n",
      "           1       0.22      0.33      0.26     10911\n",
      "\n",
      "    accuracy                           0.55     44600\n",
      "   macro avg       0.48      0.47      0.47     44600\n",
      "weighted avg       0.61      0.55      0.57     44600\n",
      "\n"
     ]
    },
    {
     "name": "stderr",
     "output_type": "stream",
     "text": [
      "c:\\Users\\kalya\\AppData\\Local\\Programs\\Python\\Python312\\Lib\\site-packages\\sklearn\\linear_model\\_logistic.py:469: ConvergenceWarning: lbfgs failed to converge (status=1):\n",
      "STOP: TOTAL NO. of ITERATIONS REACHED LIMIT.\n",
      "\n",
      "Increase the number of iterations (max_iter) or scale the data as shown in:\n",
      "    https://scikit-learn.org/stable/modules/preprocessing.html\n",
      "Please also refer to the documentation for alternative solver options:\n",
      "    https://scikit-learn.org/stable/modules/linear_model.html#logistic-regression\n",
      "  n_iter_i = _check_optimize_result(\n"
     ]
    }
   ],
   "source": [
    "from sklearn.linear_model import LogisticRegression\n",
    "\n",
    "model=LogisticRegression()\n",
    "model.fit(x_train,y_train)\n",
    "y_pred=model.predict(x_test)\n",
    "\n",
    "conf = confusion_matrix(y_test,y_pred)\n",
    "acc= accuracy_score(y_test,y_pred)\n",
    "\n",
    "print('Accuracy of Logistic Regression: ',acc)\n",
    "print(10*'===========')\n",
    "print('Confusion Matrix: \\n',conf)\n",
    "print(10*'===========')\n",
    "print('Classification Report: \\n',classification_report(y_test,y_pred))\n"
   ]
  },
  {
   "cell_type": "code",
   "execution_count": null,
   "id": "abdbb72b",
   "metadata": {},
   "outputs": [
    {
     "name": "stdout",
     "output_type": "stream",
     "text": [
      "training accuaracy: 0.4829903750414869\n",
      "testing accuaracy: 0.5469730941704036\n"
     ]
    }
   ],
   "source": [
    "print(f'training accuaracy: {model.score(x_train,y_train)}')\n",
    "print(f'testing accuaracy: {model.score(x_test,y_test)}')"
   ]
  },
  {
   "cell_type": "code",
   "execution_count": null,
   "id": "7a72b842",
   "metadata": {},
   "outputs": [
    {
     "data": {
      "text/plain": [
       "<sklearn.metrics._plot.confusion_matrix.ConfusionMatrixDisplay at 0x24b034da5a0>"
      ]
     },
     "execution_count": 98,
     "metadata": {},
     "output_type": "execute_result"
    },
    {
     "data": {
      "image/png": "[encoded data removed]",
      "text/plain": [
       "<Figure size 640x480 with 2 Axes>"
      ]
     },
     "metadata": {},
     "output_type": "display_data"
    }
   ],
   "source": [
    "confdisplay=ConfusionMatrixDisplay(conf)\n",
    "confdisplay.plot()"
   ]
  },
  {
   "cell_type": "code",
   "execution_count": null,
   "id": "2613810d",
   "metadata": {},
   "outputs": [
    {
     "name": "stdout",
     "output_type": "stream",
     "text": [
      "Accuracy of K-Nearest Neighbors:  0.7438340807174888\n",
      "==============================================================================================================\n",
      "Confusion Matrix: \n",
      " [[26787  6902]\n",
      " [ 4523  6388]]\n",
      "==============================================================================================================\n",
      "Classification Report: \n",
      "               precision    recall  f1-score   support\n",
      "\n",
      "           0       0.86      0.80      0.82     33689\n",
      "           1       0.48      0.59      0.53     10911\n",
      "\n",
      "    accuracy                           0.74     44600\n",
      "   macro avg       0.67      0.69      0.68     44600\n",
      "weighted avg       0.76      0.74      0.75     44600\n",
      "\n"
     ]
    }
   ],
   "source": [
    "from sklearn.neighbors import KNeighborsClassifier\n",
    "from sklearn.metrics import confusion_matrix, accuracy_score, classification_report\n",
    "\n",
    "# Prepare the KNN model\n",
    "knn_model = KNeighborsClassifier(n_neighbors=5)  # You can adjust the number of neighbors\n",
    "\n",
    "# Fit the model on the training data\n",
    "knn_model.fit(x_train, y_train)\n",
    "\n",
    "# Predict the responses for the test dataset\n",
    "y_pred_knn = knn_model.predict(x_test)\n",
    "\n",
    "# Evaluate the model\n",
    "conf_knn = confusion_matrix(y_test, y_pred_knn)\n",
    "acc_knn = accuracy_score(y_test, y_pred_knn)\n",
    "\n",
    "# Display the results\n",
    "print('Accuracy of K-Nearest Neighbors: ', acc_knn)\n",
    "print(10 * '===========')\n",
    "print('Confusion Matrix: \\n', conf_knn)\n",
    "print(10 * '===========')\n",
    "print('Classification Report: \\n', classification_report(y_test, y_pred_knn))\n"
   ]
  },
  {
   "cell_type": "code",
   "execution_count": null,
   "id": "f4822743",
   "metadata": {},
   "outputs": [
    {
     "data": {
      "text/plain": [
       "<sklearn.metrics._plot.confusion_matrix.ConfusionMatrixDisplay at 0x24b03108770>"
      ]
     },
     "execution_count": 100,
     "metadata": {},
     "output_type": "execute_result"
    },
    {
     "data": {
      "image/png": "[encoded data removed]",
      "text/plain": [
       "<Figure size 640x480 with 2 Axes>"
      ]
     },
     "metadata": {},
     "output_type": "display_data"
    }
   ],
   "source": [
    "confdisplay=ConfusionMatrixDisplay(conf)\n",
    "confdisplay.plot()"
   ]
  }
 ],
 "metadata": {
  "kernelspec": {
   "display_name": "Python 3 (ipykernel)",
   "language": "python",
   "name": "python3"
  },
  "language_info": {
   "codemirror_mode": {
    "name": "ipython",
    "version": 3
   },
   "file_extension": ".py",
   "mimetype": "text/x-python",
   "name": "python",
   "nbconvert_exporter": "python",
   "pygments_lexer": "ipython3",
   "version": "3.12.3"
  }
 },
 "nbformat": 4,
 "nbformat_minor": 5
}
